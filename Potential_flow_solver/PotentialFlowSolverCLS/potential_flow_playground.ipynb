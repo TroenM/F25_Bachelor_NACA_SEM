{
 "cells": [
  {
   "cell_type": "code",
   "execution_count": 1,
   "metadata": {},
   "outputs": [
    {
     "name": "stdout",
     "output_type": "stream",
     "text": [
      "Libraries fetched!...\n",
      "\n"
     ]
    }
   ],
   "source": [
    "import os\n",
    "os.chdir(\"../../\")\n",
    "from PotentialFlowSolver import *"
   ]
  },
  {
   "cell_type": "code",
   "execution_count": 2,
   "metadata": {},
   "outputs": [
    {
     "name": "stdout",
     "output_type": "stream",
     "text": [
      "\n"
     ]
    }
   ],
   "source": [
    "model = PotentialFlowSolver(\"0012\", alpha=20, a=1, b=1)"
   ]
  },
  {
   "cell_type": "code",
   "execution_count": 3,
   "metadata": {},
   "outputs": [
    {
     "name": "stdout",
     "output_type": "stream",
     "text": [
      "Starting iteration 0\n",
      "\t dGamma: -5.761858607960984\n",
      "\t Iteration time: 2.2446556091308594 seconds\n",
      "\n",
      "Starting iteration 1\n",
      "\t dGamma: 0.2124455867129953\n",
      "\t Iteration time: 0.46415209770202637 seconds\n",
      "\n",
      "Starting iteration 2\n",
      "\t dGamma: 0.20461059287935157\n",
      "\t Iteration time: 0.45291781425476074 seconds\n",
      "\n",
      "Starting iteration 3\n",
      "\t dGamma: 0.19706778793725022\n",
      "\t Iteration time: 0.45641160011291504 seconds\n",
      "\n",
      "Starting iteration 4\n",
      "\t dGamma: 0.1898025831371326\n",
      "\t Iteration time: 0.4864203929901123 seconds\n",
      "\n",
      "Starting iteration 5\n",
      "\t dGamma: 0.18280422537250463\n",
      "\t Iteration time: 0.5829873085021973 seconds\n",
      "\n",
      "Starting iteration 6\n",
      "\t dGamma: 0.1760618764758961\n",
      "\t Iteration time: 0.4814414978027344 seconds\n",
      "\n",
      "Starting iteration 7\n",
      "\t dGamma: 0.169571652887881\n",
      "\t Iteration time: 0.5624682903289795 seconds\n",
      "\n",
      "Starting iteration 8\n",
      "\t dGamma: 0.16331928248980887\n",
      "\t Iteration time: 0.45911622047424316 seconds\n",
      "\n",
      "Starting iteration 9\n",
      "\t dGamma: 0.15729848391092816\n",
      "\t Iteration time: 0.45264697074890137 seconds\n",
      "\n",
      "Starting iteration 10\n",
      "\t dGamma: 0.1514980235908432\n",
      "\t Iteration time: 0.44775843620300293 seconds\n",
      "\n",
      "Starting iteration 11\n",
      "\t dGamma: 0.14591109786133583\n",
      "\t Iteration time: 0.43834638595581055 seconds\n",
      "\n",
      "Starting iteration 12\n",
      "\t dGamma: 0.14053113059873779\n",
      "\t Iteration time: 0.44725656509399414 seconds\n",
      "\n",
      "Starting iteration 13\n",
      "\t dGamma: 0.13535011887002923\n",
      "\t Iteration time: 0.4366753101348877 seconds\n",
      "\n",
      "Starting iteration 14\n",
      "\t dGamma: 0.13036053095436184\n",
      "\t Iteration time: 0.4477078914642334 seconds\n",
      "\n",
      "Starting iteration 15\n",
      "\t dGamma: 0.12555416146146658\n",
      "\t Iteration time: 0.43696117401123047 seconds\n",
      "\n",
      "Starting iteration 16\n",
      "\t dGamma: 0.12092497022816051\n",
      "\t Iteration time: 0.4481477737426758 seconds\n",
      "\n",
      "Starting iteration 17\n",
      "\t dGamma: 0.11646602798389827\n",
      "\t Iteration time: 0.4413270950317383 seconds\n",
      "\n",
      "Starting iteration 18\n",
      "\t dGamma: 0.11217177841888315\n",
      "\t Iteration time: 0.45114755630493164 seconds\n",
      "\n",
      "Starting iteration 19\n",
      "\t dGamma: 0.10803680346381439\n",
      "\t Iteration time: 0.43646979331970215 seconds\n",
      "\n"
     ]
    }
   ],
   "source": [
    "model.solve()"
   ]
  },
  {
   "cell_type": "code",
   "execution_count": null,
   "metadata": {},
   "outputs": [],
   "source": []
  }
 ],
 "metadata": {
  "kernelspec": {
   "display_name": "Python (gmsh_env)",
   "language": "python",
   "name": "gmsh_env"
  },
  "language_info": {
   "codemirror_mode": {
    "name": "ipython",
    "version": 3
   },
   "file_extension": ".py",
   "mimetype": "text/x-python",
   "name": "python",
   "nbconvert_exporter": "python",
   "pygments_lexer": "ipython3",
   "version": "3.12.3"
  }
 },
 "nbformat": 4,
 "nbformat_minor": 2
}
