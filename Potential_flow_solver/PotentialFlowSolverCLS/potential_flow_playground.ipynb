{
 "cells": [
  {
   "cell_type": "code",
   "execution_count": 1,
   "metadata": {},
   "outputs": [
    {
     "name": "stdout",
     "output_type": "stream",
     "text": [
      "Libraries fetched!...\n",
      "\n"
     ]
    }
   ],
   "source": [
    "import os\n",
    "os.chdir(\"../../\")\n",
    "from PotentialFlowSolver import *"
   ]
  },
  {
   "cell_type": "code",
   "execution_count": 5,
   "metadata": {},
   "outputs": [
    {
     "name": "stdout",
     "output_type": "stream",
     "text": [
      "\n"
     ]
    }
   ],
   "source": [
    "model = PotentialFlowSolver(\"0012\" , alpha=20, P=2)"
   ]
  },
  {
   "cell_type": "code",
   "execution_count": 6,
   "metadata": {},
   "outputs": [
    {
     "name": "stdout",
     "output_type": "stream",
     "text": [
      "Starting iteration 0\n",
      "\t dot product: 0.0049765268480316425\n",
      "\t dGamma: -2.424857411039469\n",
      "\t Iteration time: 2.290613889694214 seconds\n",
      "\n",
      "Starting iteration 1\n",
      "\t dot product: -0.0023478119065665722\n",
      "\t dGamma: 3.5688498530005615\n",
      "\t Iteration time: 0.8559379577636719 seconds\n",
      "\n",
      "Starting iteration 2\n",
      "\t dot product: 0.001134602361279098\n",
      "\t dGamma: -1.6968376346718883\n",
      "\t Iteration time: 0.8571288585662842 seconds\n",
      "\n",
      "Starting iteration 3\n",
      "\t dot product: -0.0005258963302095554\n",
      "\t dGamma: 0.8090929037527823\n",
      "\t Iteration time: 0.8936386108398438 seconds\n",
      "\n",
      "Starting iteration 4\n",
      "\t dot product: 0.0002452800937310186\n",
      "\t dGamma: -0.375762640073137\n",
      "\t Iteration time: 0.8631341457366943 seconds\n",
      "\n",
      "Starting iteration 5\n",
      "\t dot product: -0.00011446285595799031\n",
      "\t dGamma: 0.17528798382100996\n",
      "\t Iteration time: 0.8662886619567871 seconds\n",
      "\n",
      "Starting iteration 6\n",
      "\t dot product: 5.236792221316083e-05\n",
      "\t dGamma: -0.08128979531132335\n",
      "\t Iteration time: 0.8910789489746094 seconds\n",
      "\n",
      "Starting iteration 7\n",
      "\t dot product: -2.3825765440709212e-05\n",
      "\t dGamma: 0.037126058760235656\n",
      "\t Iteration time: 0.8582437038421631 seconds\n",
      "\n",
      "Starting iteration 8\n",
      "\t dot product: 1.104305473402457e-05\n",
      "\t dGamma: -0.016990145858119605\n",
      "\t Iteration time: 0.8632280826568604 seconds\n",
      "\n",
      "Starting iteration 9\n",
      "\t dot product: -5.194755058293655e-06\n",
      "\t dGamma: 0.007912018686189931\n",
      "\t Iteration time: 0.8630897998809814 seconds\n",
      "\n",
      "Starting iteration 10\n",
      "\t dot product: 2.430879859137028e-06\n",
      "\t dGamma: -0.0037156591148959648\n",
      "\t Iteration time: 0.8589506149291992 seconds\n",
      "\n",
      "Starting iteration 11\n",
      "\t dot product: -1.1688908313258623e-06\n",
      "\t dGamma: 0.0017540206058095141\n",
      "\t Iteration time: 0.8564908504486084 seconds\n",
      "\n",
      "Starting iteration 12\n",
      "\t dot product: 5.476594198083356e-07\n",
      "\t dGamma: -0.0008364045297034453\n",
      "\t Iteration time: 0.8666715621948242 seconds\n",
      "\n",
      "Starting iteration 13\n",
      "\t dot product: -2.5103023594821193e-07\n",
      "\t dGamma: 0.00038916870942793985\n",
      "\t Iteration time: 0.9810771942138672 seconds\n",
      "\n",
      "Starting iteration 14\n",
      "\t dot product: 1.2060317744256774e-07\n",
      "\t dGamma: -0.00018108171907220964\n",
      "\t Iteration time: 0.8636000156402588 seconds\n",
      "\n",
      "Starting iteration 15\n",
      "\t dot product: -5.554843938529194e-08\n",
      "\t dGamma: 8.58314576762583e-05\n",
      "\t Iteration time: 0.8576004505157471 seconds\n",
      "\n",
      "Starting iteration 16\n",
      "\t dot product: 2.6223071910696938e-08\n",
      "\t dGamma: -3.984390343568901e-05\n",
      "\t Iteration time: 0.8616838455200195 seconds\n",
      "\n",
      "Starting iteration 17\n",
      "\t dot product: -1.1918696223547522e-08\n",
      "\t dGamma: 1.858491915241483e-05\n",
      "\t Iteration time: 0.9381461143493652 seconds\n",
      "\n",
      "Starting iteration 18\n",
      "\t dot product: 5.713657443240337e-09\n",
      "\t dGamma: -8.591522716268906e-06\n",
      "\t Iteration time: 0.8859424591064453 seconds\n",
      "\n",
      "Starting iteration 19\n",
      "\t dot product: -2.740808140650432e-09\n",
      "\t dGamma: 4.119514302575349e-06\n",
      "\t Iteration time: 0.8545258045196533 seconds\n",
      "\n",
      "Solver did not converge in 19 iterations\n",
      "\t Total time: 18.92750573158264\n",
      "\t dGamma: 0.0\n",
      "\n",
      "\n"
     ]
    }
   ],
   "source": [
    "model.solve()"
   ]
  },
  {
   "cell_type": "code",
   "execution_count": 7,
   "metadata": {},
   "outputs": [
    {
     "data": {
      "text/plain": [
       "np.float64(-1.6587609515370247)"
      ]
     },
     "execution_count": 7,
     "metadata": {},
     "output_type": "execute_result"
    }
   ],
   "source": [
    "model.Gamma"
   ]
  },
  {
   "cell_type": "code",
   "execution_count": null,
   "metadata": {},
   "outputs": [],
   "source": []
  }
 ],
 "metadata": {
  "kernelspec": {
   "display_name": "Python (gmsh_env)",
   "language": "python",
   "name": "gmsh_env"
  },
  "language_info": {
   "codemirror_mode": {
    "name": "ipython",
    "version": 3
   },
   "file_extension": ".py",
   "mimetype": "text/x-python",
   "name": "python",
   "nbconvert_exporter": "python",
   "pygments_lexer": "ipython3",
   "version": "3.12.3"
  }
 },
 "nbformat": 4,
 "nbformat_minor": 2
}
