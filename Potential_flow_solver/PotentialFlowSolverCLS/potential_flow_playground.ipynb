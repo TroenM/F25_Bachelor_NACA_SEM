{
 "cells": [
  {
   "cell_type": "code",
   "execution_count": 1,
   "metadata": {},
   "outputs": [
    {
     "name": "stdout",
     "output_type": "stream",
     "text": [
      "Libraries fetched!...\n",
      "\n"
     ]
    }
   ],
   "source": [
    "import os\n",
    "os.chdir(\"../../\")\n",
    "from PotentialFlowSolver import *"
   ]
  },
  {
   "cell_type": "code",
   "execution_count": 2,
   "metadata": {},
   "outputs": [
    {
     "name": "stdout",
     "output_type": "stream",
     "text": [
      "\n"
     ]
    }
   ],
   "source": [
    "model = PotentialFlowSolver(\"0012\", alpha=20)"
   ]
  },
  {
   "cell_type": "code",
   "execution_count": 3,
   "metadata": {},
   "outputs": [
    {
     "name": "stdout",
     "output_type": "stream",
     "text": [
      "Starting iteration 0\n",
      "\t dGamma: -8.033878752472065\n",
      "\t Iteration time: 2.034862756729126 seconds\n",
      "\n",
      "Starting iteration 1\n",
      "\t dGamma: 5.960801209452541\n",
      "\t Iteration time: 0.25327157974243164 seconds\n",
      "\n",
      "Starting iteration 2\n",
      "\t dGamma: 1.4791706485798997\n",
      "\t Iteration time: 0.24878835678100586 seconds\n",
      "\n",
      "Starting iteration 3\n",
      "\t dGamma: 0.45514192482105353\n",
      "\t Iteration time: 0.24993014335632324 seconds\n",
      "\n",
      "Starting iteration 4\n",
      "\t dGamma: 0.1020396012768425\n",
      "\t Iteration time: 0.2495589256286621 seconds\n",
      "\n",
      "Starting iteration 5\n",
      "\t dGamma: 0.026977467006701675\n",
      "\t Iteration time: 0.2659745216369629 seconds\n",
      "\n",
      "Starting iteration 6\n",
      "\t dGamma: 0.007418083566614406\n",
      "\t Iteration time: 0.2601478099822998 seconds\n",
      "\n",
      "Starting iteration 7\n",
      "\t dGamma: 0.001769146187097075\n",
      "\t Iteration time: 0.3419368267059326 seconds\n",
      "\n",
      "Starting iteration 8\n",
      "\t dGamma: 0.00041949194286899905\n",
      "\t Iteration time: 0.25760984420776367 seconds\n",
      "\n",
      "Starting iteration 9\n",
      "\t dGamma: 9.767437720055158e-05\n",
      "\t Iteration time: 0.2560291290283203 seconds\n",
      "\n",
      "Starting iteration 10\n",
      "\t dGamma: 3.177396145819772e-05\n",
      "\t Iteration time: 0.258742094039917 seconds\n",
      "\n",
      "Starting iteration 11\n",
      "\t dGamma: 8.279832248088472e-06\n",
      "\t Iteration time: 0.261324405670166 seconds\n",
      "\n",
      "Starting iteration 12\n",
      "\t dGamma: 2.47033036892114e-06\n",
      "\t Iteration time: 0.2663242816925049 seconds\n",
      "\n",
      "Starting iteration 13\n",
      "Solver converged in 13 iterations\n",
      "\t Total time: 5.205211877822876\n",
      "\t dGamma: 7.00090843727181e-07\n",
      "\n",
      "\n"
     ]
    }
   ],
   "source": [
    "model.solve()"
   ]
  },
  {
   "cell_type": "code",
   "execution_count": null,
   "metadata": {},
   "outputs": [],
   "source": []
  }
 ],
 "metadata": {
  "kernelspec": {
   "display_name": "Python (gmsh_env)",
   "language": "python",
   "name": "gmsh_env"
  },
  "language_info": {
   "codemirror_mode": {
    "name": "ipython",
    "version": 3
   },
   "file_extension": ".py",
   "mimetype": "text/x-python",
   "name": "python",
   "nbconvert_exporter": "python",
   "pygments_lexer": "ipython3",
   "version": "3.12.3"
  }
 },
 "nbformat": 4,
 "nbformat_minor": 2
}
