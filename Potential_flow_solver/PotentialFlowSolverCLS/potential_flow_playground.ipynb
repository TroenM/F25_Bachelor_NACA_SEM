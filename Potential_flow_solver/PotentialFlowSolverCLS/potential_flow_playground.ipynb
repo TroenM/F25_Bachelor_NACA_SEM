{
 "cells": [
  {
   "cell_type": "code",
   "execution_count": 4,
   "metadata": {},
   "outputs": [],
   "source": [
    "import os\n",
    "os.chdir(\"../../\")\n",
    "from PotentialFlowSolver import *"
   ]
  },
  {
   "cell_type": "code",
   "execution_count": 22,
   "metadata": {},
   "outputs": [
    {
     "name": "stdout",
     "output_type": "stream",
     "text": [
      "\n"
     ]
    }
   ],
   "source": [
    "kwargs = {\"ylim\":[-4,4], \"V_inf\": 10, \"g_div\": 6}#, \"a\":1, \"b\":1}\n",
    "model = PotentialFlowSolver(\"0012\" , alpha=5, P=2, kwargs = kwargs)"
   ]
  },
  {
   "cell_type": "code",
   "execution_count": 23,
   "metadata": {},
   "outputs": [
    {
     "name": "stdout",
     "output_type": "stream",
     "text": [
      "Starting iteration 0\n",
      "\t dGamma: -1.7198544555773676\n",
      "\t Iteration time: 6.113317489624023 seconds\n",
      "\n",
      "Starting iteration 1\n",
      "\t dGamma: 1.4304654131719363\n",
      "\t Iteration time: 2.4747798442840576 seconds\n",
      "\n",
      "Starting iteration 2\n",
      "\t dGamma: 0.23224442889399044\n",
      "\t Iteration time: 2.495131015777588 seconds\n",
      "\n",
      "Starting iteration 3\n",
      "\t dGamma: 0.04688245828612429\n",
      "\t Iteration time: 2.3565468788146973 seconds\n",
      "\n",
      "Starting iteration 4\n",
      "\t dGamma: 0.008629441818359933\n",
      "\t Iteration time: 2.333117961883545 seconds\n",
      "\n",
      "Starting iteration 5\n",
      "\t dGamma: 0.001341997312066376\n",
      "\t Iteration time: 2.344930410385132 seconds\n",
      "\n",
      "Starting iteration 6\n",
      "\t dGamma: 0.00023783150729674547\n",
      "\t Iteration time: 2.329754114151001 seconds\n",
      "\n",
      "Starting iteration 7\n",
      "\t dGamma: 4.3944257559006794e-05\n",
      "\t Iteration time: 2.3609976768493652 seconds\n",
      "\n",
      "Starting iteration 8\n",
      "\t dGamma: 7.4575075263795035e-06\n",
      "\t Iteration time: 2.3370323181152344 seconds\n",
      "\n",
      "Starting iteration 9\n",
      "\t dGamma: 1.2192702616869782e-06\n",
      "\t Iteration time: 2.3257548809051514 seconds\n",
      "\n",
      "Starting iteration 10\n",
      "Solver converged in 9 iterations\n",
      "\t Total time: 27.472158908843994\n",
      "\t dGamma: 2.251578873929506e-07\n",
      "\n",
      "\n"
     ]
    }
   ],
   "source": [
    "model.solve()"
   ]
  },
  {
   "cell_type": "code",
   "execution_count": 24,
   "metadata": {},
   "outputs": [
    {
     "data": {
      "text/plain": [
       "np.float64(-2.0786373059081438)"
      ]
     },
     "execution_count": 24,
     "metadata": {},
     "output_type": "execute_result"
    }
   ],
   "source": [
    "model.Gamma"
   ]
  },
  {
   "cell_type": "code",
   "execution_count": 25,
   "metadata": {},
   "outputs": [
    {
     "data": {
      "text/plain": [
       "np.float64(0.41572746118162873)"
      ]
     },
     "execution_count": 25,
     "metadata": {},
     "output_type": "execute_result"
    }
   ],
   "source": [
    "model.lift_coeff"
   ]
  },
  {
   "cell_type": "code",
   "execution_count": 20,
   "metadata": {},
   "outputs": [
    {
     "data": {
      "text/plain": [
       "np.float64(19.486115811442478)"
      ]
     },
     "execution_count": 20,
     "metadata": {},
     "output_type": "execute_result"
    }
   ],
   "source": [
    "model.lift"
   ]
  },
  {
   "cell_type": "code",
   "execution_count": null,
   "metadata": {},
   "outputs": [],
   "source": []
  },
  {
   "cell_type": "code",
   "execution_count": null,
   "metadata": {},
   "outputs": [],
   "source": []
  }
 ],
 "metadata": {
  "kernelspec": {
   "display_name": "Python (gmsh_env)",
   "language": "python",
   "name": "gmsh_env"
  },
  "language_info": {
   "codemirror_mode": {
    "name": "ipython",
    "version": 3
   },
   "file_extension": ".py",
   "mimetype": "text/x-python",
   "name": "python",
   "nbconvert_exporter": "python",
   "pygments_lexer": "ipython3",
   "version": "3.12.3"
  }
 },
 "nbformat": 4,
 "nbformat_minor": 2
}
