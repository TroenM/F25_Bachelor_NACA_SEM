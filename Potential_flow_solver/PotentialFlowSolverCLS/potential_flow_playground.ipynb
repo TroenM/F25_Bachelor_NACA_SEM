{
 "cells": [
  {
   "cell_type": "code",
   "execution_count": 1,
   "metadata": {},
   "outputs": [
    {
     "name": "stdout",
     "output_type": "stream",
     "text": [
      "Libraries fetched!...\n",
      "\n"
     ]
    }
   ],
   "source": [
    "import os\n",
    "os.chdir(\"../../\")\n",
    "from PotentialFlowSolver import *"
   ]
  },
  {
   "cell_type": "code",
   "execution_count": 6,
   "metadata": {},
   "outputs": [
    {
     "name": "stdout",
     "output_type": "stream",
     "text": [
      "\n"
     ]
    }
   ],
   "source": [
    "model = PotentialFlowSolver(\"0012\", alpha=20)"
   ]
  },
  {
   "cell_type": "code",
   "execution_count": 7,
   "metadata": {},
   "outputs": [
    {
     "name": "stdout",
     "output_type": "stream",
     "text": [
      "Starting iteration 0\n",
      "\t dGamma: -8.033878752472065\n",
      "\t Iteration time: 2.1428322792053223 seconds\n",
      "\n",
      "Starting iteration 1\n",
      "\t dGamma: 0.41391385666471514\n",
      "\t Iteration time: 0.27329063415527344 seconds\n",
      "\n",
      "Starting iteration 2\n",
      "\t dGamma: 0.3952440936537913\n",
      "\t Iteration time: 0.24370360374450684 seconds\n",
      "\n",
      "Starting iteration 3\n",
      "\t dGamma: 0.36026132072771055\n",
      "\t Iteration time: 0.2396535873413086 seconds\n",
      "\n",
      "Starting iteration 4\n",
      "\t dGamma: 0.33581376418274456\n",
      "\t Iteration time: 0.23962855339050293 seconds\n",
      "\n",
      "Starting iteration 5\n",
      "\t dGamma: 0.3304111965939338\n",
      "\t Iteration time: 0.2384476661682129 seconds\n",
      "\n",
      "Starting iteration 6\n",
      "\t dGamma: 0.3177622445147108\n",
      "\t Iteration time: 0.23961234092712402 seconds\n",
      "\n",
      "Starting iteration 7\n",
      "\t dGamma: 0.29958756755322735\n",
      "\t Iteration time: 0.24104094505310059 seconds\n",
      "\n",
      "Starting iteration 8\n",
      "\t dGamma: 0.28857014747526044\n",
      "\t Iteration time: 0.23583436012268066 seconds\n",
      "\n",
      "Starting iteration 9\n",
      "\t dGamma: 0.27513325766821595\n",
      "\t Iteration time: 0.23824453353881836 seconds\n",
      "\n",
      "Starting iteration 10\n",
      "\t dGamma: 0.2593566666989249\n",
      "\t Iteration time: 0.24486684799194336 seconds\n",
      "\n",
      "Starting iteration 11\n",
      "\t dGamma: 0.2430239010352908\n",
      "\t Iteration time: 0.2580399513244629 seconds\n",
      "\n",
      "Starting iteration 12\n",
      "\t dGamma: 0.23410741468461094\n",
      "\t Iteration time: 0.24309277534484863 seconds\n",
      "\n",
      "Starting iteration 13\n",
      "\t dGamma: 0.22396776056961087\n",
      "\t Iteration time: 0.24105620384216309 seconds\n",
      "\n",
      "Starting iteration 14\n",
      "\t dGamma: 0.20359210139715422\n",
      "\t Iteration time: 0.2398829460144043 seconds\n",
      "\n",
      "Starting iteration 15\n",
      "\t dGamma: 0.2027913971292472\n",
      "\t Iteration time: 0.2398679256439209 seconds\n",
      "\n",
      "Starting iteration 16\n",
      "\t dGamma: 0.1830004255846278\n",
      "\t Iteration time: 0.3390929698944092 seconds\n",
      "\n",
      "Starting iteration 17\n",
      "\t dGamma: 0.18548056799698287\n",
      "\t Iteration time: 0.2364969253540039 seconds\n",
      "\n",
      "Starting iteration 18\n",
      "\t dGamma: 0.16411887830783867\n",
      "\t Iteration time: 0.24014735221862793 seconds\n",
      "\n",
      "Starting iteration 19\n",
      "\t dGamma: 0.16199866911897898\n",
      "\t Iteration time: 0.23779630661010742 seconds\n",
      "\n"
     ]
    }
   ],
   "source": [
    "model.solve()"
   ]
  },
  {
   "cell_type": "code",
   "execution_count": null,
   "metadata": {},
   "outputs": [],
   "source": []
  }
 ],
 "metadata": {
  "kernelspec": {
   "display_name": "Python (gmsh_env)",
   "language": "python",
   "name": "gmsh_env"
  },
  "language_info": {
   "codemirror_mode": {
    "name": "ipython",
    "version": 3
   },
   "file_extension": ".py",
   "mimetype": "text/x-python",
   "name": "python",
   "nbconvert_exporter": "python",
   "pygments_lexer": "ipython3",
   "version": "3.12.3"
  }
 },
 "nbformat": 4,
 "nbformat_minor": 2
}
