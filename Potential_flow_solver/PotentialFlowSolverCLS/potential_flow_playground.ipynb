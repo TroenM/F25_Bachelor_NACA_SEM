{
 "cells": [
  {
   "cell_type": "code",
   "execution_count": 1,
   "metadata": {},
   "outputs": [
    {
     "name": "stdout",
     "output_type": "stream",
     "text": [
      "Libraries fetched!...\n",
      "\n"
     ]
    }
   ],
   "source": [
    "import os\n",
    "os.chdir(\"../../\")\n",
    "from PotentialFlowSolver import *"
   ]
  },
  {
   "cell_type": "code",
   "execution_count": 2,
   "metadata": {},
   "outputs": [
    {
     "name": "stdout",
     "output_type": "stream",
     "text": [
      "\n"
     ]
    }
   ],
   "source": [
    "model = PotentialFlowSolver(\"0012\", alpha=20, P=3)"
   ]
  },
  {
   "cell_type": "code",
   "execution_count": 3,
   "metadata": {},
   "outputs": [
    {
     "name": "stdout",
     "output_type": "stream",
     "text": [
      "Starting iteration 0\n",
      "\t dot product: 0.004907860059343538\n",
      "\t dGamma: -11.00042370775605\n",
      "\t Iteration time: 3.9517903327941895 seconds\n",
      "\n",
      "Starting iteration 1\n",
      "\t dot product: -0.0016450908124812083\n",
      "\t dGamma: 14.687712211546541\n",
      "\t Iteration time: 1.9782404899597168 seconds\n",
      "\n",
      "Starting iteration 2\n",
      "\t dot product: 0.0005435744610436525\n",
      "\t dGamma: -4.905650338865943\n",
      "\t Iteration time: 1.9576480388641357 seconds\n",
      "\n",
      "Starting iteration 3\n",
      "\t dot product: -0.00018064365418696748\n",
      "\t dGamma: 1.6232545402761378\n",
      "\t Iteration time: 2.00512957572937 seconds\n",
      "\n",
      "Starting iteration 4\n",
      "\t dot product: 5.956176639087834e-05\n",
      "\t dGamma: -0.5383937951175981\n",
      "\t Iteration time: 1.9455091953277588 seconds\n",
      "\n",
      "Starting iteration 5\n",
      "\t dot product: -1.9971995800566743e-05\n",
      "\t dGamma: 0.1782661022520736\n",
      "\t Iteration time: 2.0304582118988037 seconds\n",
      "\n",
      "Starting iteration 6\n",
      "\t dot product: 6.481132234932837e-06\n",
      "\t dGamma: -0.059291751041682605\n",
      "\t Iteration time: 1.943310022354126 seconds\n",
      "\n",
      "Starting iteration 7\n",
      "\t dot product: -2.1315821378529346e-06\n",
      "\t dGamma: 0.01930444353117828\n",
      "\t Iteration time: 1.9673960208892822 seconds\n",
      "\n",
      "Starting iteration 8\n",
      "\t dot product: 7.025144749945885e-07\n",
      "\t dGamma: -0.006352313063752338\n",
      "\t Iteration time: 1.9197242259979248 seconds\n",
      "\n",
      "Starting iteration 9\n",
      "\t dot product: -2.341172058488679e-07\n",
      "\t dGamma: 0.0020993559764949997\n",
      "\t Iteration time: 1.9827251434326172 seconds\n",
      "\n",
      "Starting iteration 10\n",
      "\t dot product: 7.685565669032832e-08\n",
      "\t dGamma: -0.00069701116335476\n",
      "\t Iteration time: 1.9521896839141846 seconds\n",
      "\n",
      "Starting iteration 11\n",
      "\t dot product: -2.5466175212910358e-08\n",
      "\t dGamma: 0.00022934303176519704\n",
      "\t Iteration time: 1.9593698978424072 seconds\n",
      "\n",
      "Starting iteration 12\n",
      "\t dot product: 8.45447553489551e-09\n",
      "\t dGamma: -7.602937454529338e-05\n",
      "\t Iteration time: 1.9741871356964111 seconds\n",
      "\n",
      "Starting iteration 13\n",
      "\t dot product: -2.8054052822623487e-09\n",
      "\t dGamma: 2.5237773365539786e-05\n",
      "\t Iteration time: 1.9598407745361328 seconds\n",
      "\n",
      "Starting iteration 14\n",
      "\t dot product: 9.179557499133928e-10\n",
      "\t dGamma: -8.345500579717042e-06\n",
      "\t Iteration time: 1.945946216583252 seconds\n",
      "\n",
      "Starting iteration 15\n",
      "\t dot product: -3.066829748694314e-10\n",
      "\t dGamma: 2.7448918058511533e-06\n",
      "\t Iteration time: 1.9745864868164062 seconds\n",
      "\n",
      "Starting iteration 16\n",
      "Solver converged in 15 iterations\n",
      "\t Total time: 33.44877362251282\n",
      "\t dGamma: 9.147904410181852e-07\n",
      "\n",
      "\n"
     ]
    }
   ],
   "source": [
    "model.solve()"
   ]
  },
  {
   "cell_type": "code",
   "execution_count": null,
   "metadata": {},
   "outputs": [],
   "source": []
  }
 ],
 "metadata": {
  "kernelspec": {
   "display_name": "Python (gmsh_env)",
   "language": "python",
   "name": "gmsh_env"
  },
  "language_info": {
   "codemirror_mode": {
    "name": "ipython",
    "version": 3
   },
   "file_extension": ".py",
   "mimetype": "text/x-python",
   "name": "python",
   "nbconvert_exporter": "python",
   "pygments_lexer": "ipython3",
   "version": "3.12.3"
  }
 },
 "nbformat": 4,
 "nbformat_minor": 2
}
