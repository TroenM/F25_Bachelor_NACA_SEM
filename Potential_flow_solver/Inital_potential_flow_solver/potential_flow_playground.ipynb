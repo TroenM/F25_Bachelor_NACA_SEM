{
 "cells": [
  {
   "cell_type": "code",
   "execution_count": 1,
   "metadata": {},
   "outputs": [
    {
     "name": "stdout",
     "output_type": "stream",
     "text": [
      "Libraries fetched!...\n",
      "\n"
     ]
    }
   ],
   "source": [
    "from Potential_flow_solver import *"
   ]
  },
  {
   "cell_type": "code",
   "execution_count": 2,
   "metadata": {},
   "outputs": [
    {
     "name": "stdout",
     "output_type": "stream",
     "text": [
      "\n"
     ]
    }
   ],
   "source": [
    "mesh = naca_mesh(\"0012\", alpha=10)\n",
    "#plot_mesh(mesh, xlim = (-0.1,1), ylim = (-0.3,0.3))"
   ]
  },
  {
   "cell_type": "code",
   "execution_count": 4,
   "metadata": {},
   "outputs": [
    {
     "name": "stdout",
     "output_type": "stream",
     "text": [
      "Iteration 0\n",
      "\t old trailing edge velocity is [1.66899148 0.12666018]\n",
      "\t dot product 0.0009043902657074087\n"
     ]
    },
    {
     "ename": "ConvergenceError",
     "evalue": "Nonlinear solve failed to converge after 0 nonlinear iterations.\nReason:\n   DIVERGED_LINEAR_SOLVE",
     "output_type": "error",
     "traceback": [
      "\u001b[0;31m---------------------------------------------------------------------------\u001b[0m",
      "\u001b[0;31mConvergenceError\u001b[0m                          Traceback (most recent call last)",
      "Cell \u001b[0;32mIn[4], line 1\u001b[0m\n\u001b[0;32m----> 1\u001b[0m \u001b[43mpotential_flow_solver\u001b[49m\u001b[43m(\u001b[49m\u001b[43mmesh\u001b[49m\u001b[43m,\u001b[49m\u001b[43m \u001b[49m\u001b[43mP\u001b[49m\u001b[43m \u001b[49m\u001b[38;5;241;43m=\u001b[39;49m\u001b[43m \u001b[49m\u001b[38;5;241;43m1\u001b[39;49m\u001b[43m,\u001b[49m\u001b[43m \u001b[49m\u001b[43msolver_params\u001b[49m\u001b[43m \u001b[49m\u001b[38;5;241;43m=\u001b[39;49m\u001b[43m \u001b[49m\u001b[43m{\u001b[49m\u001b[38;5;124;43m\"\u001b[39;49m\u001b[38;5;124;43mksp_type\u001b[39;49m\u001b[38;5;124;43m\"\u001b[39;49m\u001b[43m \u001b[49m\u001b[43m:\u001b[49m\u001b[43m \u001b[49m\u001b[38;5;124;43m\"\u001b[39;49m\u001b[38;5;124;43mcg\u001b[39;49m\u001b[38;5;124;43m\"\u001b[39;49m\u001b[43m,\u001b[49m\u001b[43m \u001b[49m\u001b[38;5;124;43m\"\u001b[39;49m\u001b[38;5;124;43mcg_type\u001b[39;49m\u001b[38;5;124;43m\"\u001b[39;49m\u001b[43m:\u001b[49m\u001b[38;5;124;43m\"\u001b[39;49m\u001b[38;5;124;43mlu\u001b[39;49m\u001b[38;5;124;43m\"\u001b[39;49m\u001b[43m}\u001b[49m\u001b[43m)\u001b[49m\n",
      "File \u001b[0;32m/home/firedrake/Projects/Bachelor/F25_Bachelor_NACA_SEM/Potential_flow_solver/Inital_potential_flow_solver/Potential_flow_solver.py:110\u001b[0m, in \u001b[0;36mpotential_flow_solver\u001b[0;34m(mesh, P, write, **kwargs)\u001b[0m\n\u001b[1;32m    108\u001b[0m model\u001b[38;5;241m.\u001b[39mimpose_NBC( \u001b[38;5;241m-\u001b[39mvortex, kwargs\u001b[38;5;241m.\u001b[39mget(\u001b[38;5;124m\"\u001b[39m\u001b[38;5;124mfs\u001b[39m\u001b[38;5;124m\"\u001b[39m, \u001b[38;5;241m4\u001b[39m))\n\u001b[1;32m    109\u001b[0m model\u001b[38;5;241m.\u001b[39mimpose_NBC( \u001b[38;5;241m-\u001b[39mvortex, kwargs\u001b[38;5;241m.\u001b[39mget(\u001b[38;5;124m\"\u001b[39m\u001b[38;5;124mnaca\u001b[39m\u001b[38;5;124m\"\u001b[39m, \u001b[38;5;241m5\u001b[39m))\n\u001b[0;32m--> 110\u001b[0m \u001b[43mmodel\u001b[49m\u001b[38;5;241;43m.\u001b[39;49m\u001b[43msolve\u001b[49m\u001b[43m(\u001b[49m\u001b[43msolver_params\u001b[49m\u001b[38;5;241;43m=\u001b[39;49m\u001b[43m{\u001b[49m\u001b[38;5;124;43m\"\u001b[39;49m\u001b[38;5;124;43mksp_type\u001b[39;49m\u001b[38;5;124;43m\"\u001b[39;49m\u001b[43m:\u001b[49m\u001b[43m \u001b[49m\u001b[38;5;124;43m\"\u001b[39;49m\u001b[38;5;124;43mpreonly\u001b[39;49m\u001b[38;5;124;43m\"\u001b[39;49m\u001b[43m,\u001b[49m\u001b[43m \u001b[49m\u001b[38;5;124;43m\"\u001b[39;49m\u001b[38;5;124;43mpc_type\u001b[39;49m\u001b[38;5;124;43m\"\u001b[39;49m\u001b[43m:\u001b[49m\u001b[43m \u001b[49m\u001b[38;5;124;43m\"\u001b[39;49m\u001b[38;5;124;43mlu\u001b[39;49m\u001b[38;5;124;43m\"\u001b[39;49m\u001b[43m}\u001b[49m\u001b[43m)\u001b[49m\n\u001b[1;32m    111\u001b[0m u0 \u001b[38;5;241m=\u001b[39m model\u001b[38;5;241m.\u001b[39mu_sol\n\u001b[1;32m    112\u001b[0m velocityBC \u001b[38;5;241m=\u001b[39m fd\u001b[38;5;241m.\u001b[39mFunction(model\u001b[38;5;241m.\u001b[39mW)\n",
      "File \u001b[0;32m/home/firedrake/Projects/Bachelor/F25_Bachelor_NACA_SEM/PoissonSolver/PoissonCLS/poisson_solver.py:182\u001b[0m, in \u001b[0;36mPoissonSolver.solve\u001b[0;34m(self, solver_params)\u001b[0m\n\u001b[1;32m    180\u001b[0m \u001b[38;5;28;01mdef\u001b[39;00m\u001b[38;5;250m \u001b[39m\u001b[38;5;21msolve\u001b[39m(\u001b[38;5;28mself\u001b[39m, solver_params: \u001b[38;5;28mdict\u001b[39m \u001b[38;5;241m=\u001b[39m {\u001b[38;5;124m\"\u001b[39m\u001b[38;5;124mksp_type\u001b[39m\u001b[38;5;124m\"\u001b[39m: \u001b[38;5;124m\"\u001b[39m\u001b[38;5;124mcg\u001b[39m\u001b[38;5;124m\"\u001b[39m}):\n\u001b[1;32m    181\u001b[0m \u001b[38;5;250m    \u001b[39m\u001b[38;5;124;03m\"\"\"Solve the Poisson problem\"\"\"\u001b[39;00m\n\u001b[0;32m--> 182\u001b[0m     \u001b[43mfd\u001b[49m\u001b[38;5;241;43m.\u001b[39;49m\u001b[43msolve\u001b[49m\u001b[43m(\u001b[49m\u001b[38;5;28;43mself\u001b[39;49m\u001b[38;5;241;43m.\u001b[39;49m\u001b[43ma\u001b[49m\u001b[43m \u001b[49m\u001b[38;5;241;43m==\u001b[39;49m\u001b[43m \u001b[49m\u001b[38;5;28;43mself\u001b[39;49m\u001b[38;5;241;43m.\u001b[39;49m\u001b[43mL\u001b[49m\u001b[43m,\u001b[49m\u001b[43m \u001b[49m\u001b[38;5;28;43mself\u001b[39;49m\u001b[38;5;241;43m.\u001b[39;49m\u001b[43mu_sol\u001b[49m\u001b[43m,\u001b[49m\u001b[43m \u001b[49m\u001b[43mbcs\u001b[49m\u001b[38;5;241;43m=\u001b[39;49m\u001b[38;5;28;43mself\u001b[39;49m\u001b[38;5;241;43m.\u001b[39;49m\u001b[43mDirBCs\u001b[49m\u001b[43m,\u001b[49m\u001b[43m \u001b[49m\u001b[43msolver_parameters\u001b[49m\u001b[38;5;241;43m=\u001b[39;49m\u001b[43msolver_params\u001b[49m\u001b[43m)\u001b[49m\n",
      "File \u001b[0;32mpetsc4py/PETSc/Log.pyx:188\u001b[0m, in \u001b[0;36mpetsc4py.PETSc.Log.EventDecorator.decorator.wrapped_func\u001b[0;34m()\u001b[0m\n",
      "File \u001b[0;32mpetsc4py/PETSc/Log.pyx:189\u001b[0m, in \u001b[0;36mpetsc4py.PETSc.Log.EventDecorator.decorator.wrapped_func\u001b[0;34m()\u001b[0m\n",
      "File \u001b[0;32m/home/firedrake/firedrake/src/firedrake/firedrake/adjoint_utils/solving.py:57\u001b[0m, in \u001b[0;36mannotate_solve.<locals>.wrapper\u001b[0;34m(*args, **kwargs)\u001b[0m\n\u001b[1;32m     54\u001b[0m     tape\u001b[38;5;241m.\u001b[39madd_block(block)\n\u001b[1;32m     56\u001b[0m \u001b[38;5;28;01mwith\u001b[39;00m stop_annotating():\n\u001b[0;32m---> 57\u001b[0m     output \u001b[38;5;241m=\u001b[39m \u001b[43msolve\u001b[49m\u001b[43m(\u001b[49m\u001b[38;5;241;43m*\u001b[39;49m\u001b[43margs\u001b[49m\u001b[43m,\u001b[49m\u001b[43m \u001b[49m\u001b[38;5;241;43m*\u001b[39;49m\u001b[38;5;241;43m*\u001b[39;49m\u001b[43mkwargs\u001b[49m\u001b[43m)\u001b[49m\n\u001b[1;32m     59\u001b[0m \u001b[38;5;28;01mif\u001b[39;00m annotate:\n\u001b[1;32m     60\u001b[0m     \u001b[38;5;28;01mif\u001b[39;00m \u001b[38;5;28mhasattr\u001b[39m(args[\u001b[38;5;241m1\u001b[39m], \u001b[38;5;124m\"\u001b[39m\u001b[38;5;124mcreate_block_variable\u001b[39m\u001b[38;5;124m\"\u001b[39m):\n",
      "File \u001b[0;32m/home/firedrake/firedrake/src/firedrake/firedrake/solving.py:141\u001b[0m, in \u001b[0;36msolve\u001b[0;34m(*args, **kwargs)\u001b[0m\n\u001b[1;32m    139\u001b[0m \u001b[38;5;66;03m# Call variational problem solver if we get an equation\u001b[39;00m\n\u001b[1;32m    140\u001b[0m \u001b[38;5;28;01mif\u001b[39;00m \u001b[38;5;28misinstance\u001b[39m(args[\u001b[38;5;241m0\u001b[39m], ufl\u001b[38;5;241m.\u001b[39mclasses\u001b[38;5;241m.\u001b[39mEquation):\n\u001b[0;32m--> 141\u001b[0m     \u001b[43m_solve_varproblem\u001b[49m\u001b[43m(\u001b[49m\u001b[38;5;241;43m*\u001b[39;49m\u001b[43margs\u001b[49m\u001b[43m,\u001b[49m\u001b[43m \u001b[49m\u001b[38;5;241;43m*\u001b[39;49m\u001b[38;5;241;43m*\u001b[39;49m\u001b[43mkwargs\u001b[49m\u001b[43m)\u001b[49m\n\u001b[1;32m    142\u001b[0m \u001b[38;5;28;01melse\u001b[39;00m:\n\u001b[1;32m    143\u001b[0m     \u001b[38;5;66;03m# Solve pre-assembled system\u001b[39;00m\n\u001b[1;32m    144\u001b[0m     \u001b[38;5;28;01mreturn\u001b[39;00m _la_solve(\u001b[38;5;241m*\u001b[39margs, \u001b[38;5;241m*\u001b[39m\u001b[38;5;241m*\u001b[39mkwargs)\n",
      "File \u001b[0;32m/home/firedrake/firedrake/src/firedrake/firedrake/solving.py:178\u001b[0m, in \u001b[0;36m_solve_varproblem\u001b[0;34m(*args, **kwargs)\u001b[0m\n\u001b[1;32m    171\u001b[0m     \u001b[38;5;66;03m# Create solver and call solve\u001b[39;00m\n\u001b[1;32m    172\u001b[0m     solver \u001b[38;5;241m=\u001b[39m vs\u001b[38;5;241m.\u001b[39mLinearVariationalSolver(problem, solver_parameters\u001b[38;5;241m=\u001b[39msolver_parameters,\n\u001b[1;32m    173\u001b[0m                                         nullspace\u001b[38;5;241m=\u001b[39mnullspace,\n\u001b[1;32m    174\u001b[0m                                         transpose_nullspace\u001b[38;5;241m=\u001b[39mnullspace_T,\n\u001b[1;32m    175\u001b[0m                                         near_nullspace\u001b[38;5;241m=\u001b[39mnear_nullspace,\n\u001b[1;32m    176\u001b[0m                                         options_prefix\u001b[38;5;241m=\u001b[39moptions_prefix,\n\u001b[1;32m    177\u001b[0m                                         appctx\u001b[38;5;241m=\u001b[39mappctx)\n\u001b[0;32m--> 178\u001b[0m     \u001b[43msolver\u001b[49m\u001b[38;5;241;43m.\u001b[39;49m\u001b[43msolve\u001b[49m\u001b[43m(\u001b[49m\u001b[43m)\u001b[49m\n\u001b[1;32m    180\u001b[0m \u001b[38;5;66;03m# Solve nonlinear variational problem\u001b[39;00m\n\u001b[1;32m    181\u001b[0m \u001b[38;5;28;01melse\u001b[39;00m:\n\u001b[1;32m    182\u001b[0m     \u001b[38;5;28;01mif\u001b[39;00m eq\u001b[38;5;241m.\u001b[39mrhs \u001b[38;5;241m!=\u001b[39m \u001b[38;5;241m0\u001b[39m:\n",
      "File \u001b[0;32mpetsc4py/PETSc/Log.pyx:188\u001b[0m, in \u001b[0;36mpetsc4py.PETSc.Log.EventDecorator.decorator.wrapped_func\u001b[0;34m()\u001b[0m\n",
      "File \u001b[0;32mpetsc4py/PETSc/Log.pyx:189\u001b[0m, in \u001b[0;36mpetsc4py.PETSc.Log.EventDecorator.decorator.wrapped_func\u001b[0;34m()\u001b[0m\n",
      "File \u001b[0;32m/home/firedrake/firedrake/src/firedrake/firedrake/adjoint_utils/variational_solver.py:104\u001b[0m, in \u001b[0;36mNonlinearVariationalSolverMixin._ad_annotate_solve.<locals>.wrapper\u001b[0;34m(self, **kwargs)\u001b[0m\n\u001b[1;32m    101\u001b[0m     tape\u001b[38;5;241m.\u001b[39madd_block(block)\n\u001b[1;32m    103\u001b[0m \u001b[38;5;28;01mwith\u001b[39;00m stop_annotating():\n\u001b[0;32m--> 104\u001b[0m     out \u001b[38;5;241m=\u001b[39m \u001b[43msolve\u001b[49m\u001b[43m(\u001b[49m\u001b[38;5;28;43mself\u001b[39;49m\u001b[43m,\u001b[49m\u001b[43m \u001b[49m\u001b[38;5;241;43m*\u001b[39;49m\u001b[38;5;241;43m*\u001b[39;49m\u001b[43mkwargs\u001b[49m\u001b[43m)\u001b[49m\n\u001b[1;32m    106\u001b[0m \u001b[38;5;28;01mif\u001b[39;00m annotate:\n\u001b[1;32m    107\u001b[0m     block\u001b[38;5;241m.\u001b[39madd_output(\u001b[38;5;28mself\u001b[39m\u001b[38;5;241m.\u001b[39m_ad_problem\u001b[38;5;241m.\u001b[39m_ad_u\u001b[38;5;241m.\u001b[39mcreate_block_variable())\n",
      "File \u001b[0;32m/home/firedrake/firedrake/src/firedrake/firedrake/variational_solver.py:330\u001b[0m, in \u001b[0;36mNonlinearVariationalSolver.solve\u001b[0;34m(self, bounds)\u001b[0m\n\u001b[1;32m    328\u001b[0m \u001b[38;5;28;01mif\u001b[39;00m problem\u001b[38;5;241m.\u001b[39mrestrict:\n\u001b[1;32m    329\u001b[0m     problem\u001b[38;5;241m.\u001b[39mu\u001b[38;5;241m.\u001b[39minterpolate(problem\u001b[38;5;241m.\u001b[39mu_restrict)\n\u001b[0;32m--> 330\u001b[0m \u001b[43msolving_utils\u001b[49m\u001b[38;5;241;43m.\u001b[39;49m\u001b[43mcheck_snes_convergence\u001b[49m\u001b[43m(\u001b[49m\u001b[38;5;28;43mself\u001b[39;49m\u001b[38;5;241;43m.\u001b[39;49m\u001b[43msnes\u001b[49m\u001b[43m)\u001b[49m\n\u001b[1;32m    332\u001b[0m \u001b[38;5;66;03m# Grab the comm associated with the `_problem` and call PETSc's garbage cleanup routine\u001b[39;00m\n\u001b[1;32m    333\u001b[0m comm \u001b[38;5;241m=\u001b[39m \u001b[38;5;28mself\u001b[39m\u001b[38;5;241m.\u001b[39m_problem\u001b[38;5;241m.\u001b[39mu_restrict\u001b[38;5;241m.\u001b[39mfunction_space()\u001b[38;5;241m.\u001b[39mmesh()\u001b[38;5;241m.\u001b[39m_comm\n",
      "File \u001b[0;32m/home/firedrake/firedrake/src/firedrake/firedrake/solving_utils.py:124\u001b[0m, in \u001b[0;36mcheck_snes_convergence\u001b[0;34m(snes)\u001b[0m\n\u001b[1;32m    122\u001b[0m         \u001b[38;5;28;01melse\u001b[39;00m:\n\u001b[1;32m    123\u001b[0m             msg \u001b[38;5;241m=\u001b[39m reason\n\u001b[0;32m--> 124\u001b[0m         \u001b[38;5;28;01mraise\u001b[39;00m ConvergenceError(\u001b[38;5;124mr\u001b[39m\u001b[38;5;124m\"\"\"\u001b[39m\u001b[38;5;124mNonlinear solve failed to converge after \u001b[39m\u001b[38;5;132;01m%d\u001b[39;00m\u001b[38;5;124m nonlinear iterations.\u001b[39m\n\u001b[1;32m    125\u001b[0m \u001b[38;5;124mReason:\u001b[39m\n\u001b[1;32m    126\u001b[0m \u001b[38;5;124m   \u001b[39m\u001b[38;5;132;01m%s\u001b[39;00m\u001b[38;5;124m\"\"\"\u001b[39m \u001b[38;5;241m%\u001b[39m (snes\u001b[38;5;241m.\u001b[39mgetIterationNumber(), msg))\n",
      "\u001b[0;31mConvergenceError\u001b[0m: Nonlinear solve failed to converge after 0 nonlinear iterations.\nReason:\n   DIVERGED_LINEAR_SOLVE"
     ]
    }
   ],
   "source": [
    "potential_flow_solver(mesh, P = 1, solver_params = {\"ksp_type\" : \"cg\", \"cg_type\":\"lu\"})"
   ]
  },
  {
   "cell_type": "code",
   "execution_count": null,
   "metadata": {},
   "outputs": [],
   "source": []
  }
 ],
 "metadata": {
  "kernelspec": {
   "display_name": "Python (gmsh_env)",
   "language": "python",
   "name": "gmsh_env"
  },
  "language_info": {
   "codemirror_mode": {
    "name": "ipython",
    "version": 3
   },
   "file_extension": ".py",
   "mimetype": "text/x-python",
   "name": "python",
   "nbconvert_exporter": "python",
   "pygments_lexer": "ipython3",
   "version": "3.12.3"
  }
 },
 "nbformat": 4,
 "nbformat_minor": 2
}
