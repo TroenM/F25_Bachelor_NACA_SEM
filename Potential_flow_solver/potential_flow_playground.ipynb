{
 "cells": [
  {
   "cell_type": "code",
   "execution_count": 1,
   "metadata": {},
   "outputs": [
    {
     "name": "stdout",
     "output_type": "stream",
     "text": [
      "Libraries fetched!...\n",
      "\n"
     ]
    }
   ],
   "source": [
    "from Potential_flow_solver import *"
   ]
  },
  {
   "cell_type": "code",
   "execution_count": 2,
   "metadata": {},
   "outputs": [
    {
     "name": "stdout",
     "output_type": "stream",
     "text": [
      "\n"
     ]
    }
   ],
   "source": [
    "mesh = naca_mesh(\"0012\", alpha=20)\n",
    "#plot_mesh(mesh, xlim=(-0.1,1.1), ylim = (-0.3, 0.3))"
   ]
  },
  {
   "cell_type": "code",
   "execution_count": 3,
   "metadata": {},
   "outputs": [
    {
     "name": "stdout",
     "output_type": "stream",
     "text": [
      "Iteration 0\n",
      "\t[ 0.468815   -0.23480093]\n",
      "\t[ 0.47936997 -0.22881653]\n",
      "\t old trailing edge velocity is [ 0.47409248 -0.23180873]\n",
      "\t old trailing edge velocity at p3 is [ 0.47410817 -0.23014387]\n",
      "\t vortex: [0.16033234 0.44050867]\n",
      "\n",
      "\t v3 + vortex [0.63444051 0.2103648 ]\n",
      "\t dot product 0.0012539611328841755\n",
      "\t Itteration time: 2.8844833374023438\n",
      "\t dGamma: 0.17906047716344334\n",
      "\t Gamma: 0.17906047716344334\n",
      "\t new trailing edge velocity is [0.63444051 0.2103648 ]\n",
      "Iteration 1\n",
      "\t[0.63118889 0.2099121 ]\n",
      "\t[0.63935531 0.21678389]\n",
      "\t old trailing edge velocity is [0.6352721  0.21334799]\n",
      "\t old trailing edge velocity at p3 is [0.6352889  0.21501661]\n",
      "\t vortex: [0.00708639 0.01946965]\n",
      "\n",
      "\t v3 + vortex [0.64237529 0.23448627]\n",
      "\t dot product 0.0013307121114960589\n",
      "\t Itteration time: 1.0257763862609863\n",
      "\t dGamma: -0.17114634112165097\n",
      "\t Gamma: 0.007914136041792355\n",
      "\t new trailing edge velocity is [0.64237529 0.23448627]\n",
      "Iteration 2\n",
      "\t[0.638365   0.22956496]\n",
      "\t[0.64642586 0.23647565]\n",
      "\t old trailing edge velocity is [0.64239543 0.2330203 ]\n",
      "\t old trailing edge velocity at p3 is [0.64241228 0.2346891 ]\n",
      "\t vortex: [0.00031423 0.00086335]\n",
      "\n",
      "\t v3 + vortex [0.64272651 0.23555245]\n",
      "\t dot product 0.0013341050809785918\n",
      "\t Itteration time: 1.0579347610473633\n",
      "\t dGamma: -0.00756319645678493\n",
      "\t Gamma: 0.00035093958500742497\n",
      "\t new trailing edge velocity is [0.64272651 0.23555245]\n",
      "Iteration 3\n",
      "\t[0.63868316 0.23043611]\n",
      "\t[0.64673935 0.23734852]\n",
      "\t old trailing edge velocity is [0.64271125 0.23389232]\n",
      "\t old trailing edge velocity at p3 is [0.6427281  0.23556112]\n",
      "\t vortex: [1.40557026e-05 3.86176534e-05]\n",
      "\n",
      "\t v3 + vortex [0.64274216 0.23559974]\n",
      "\t dot product 0.0013342556341984374\n",
      "\t Itteration time: 1.1420786380767822\n",
      "\t dGamma: -0.00033524206108620367\n",
      "\t Gamma: 1.569752392122132e-05\n",
      "\t new trailing edge velocity is [0.64274216 0.23559974]\n"
     ]
    }
   ],
   "source": [
    "potential_flow_solver(mesh, 2, False)"
   ]
  },
  {
   "cell_type": "code",
   "execution_count": null,
   "metadata": {},
   "outputs": [],
   "source": []
  }
 ],
 "metadata": {
  "kernelspec": {
   "display_name": "Python FireDrake_root",
   "language": "python",
   "name": "fd_root"
  },
  "language_info": {
   "codemirror_mode": {
    "name": "ipython",
    "version": 3
   },
   "file_extension": ".py",
   "mimetype": "text/x-python",
   "name": "python",
   "nbconvert_exporter": "python",
   "pygments_lexer": "ipython3",
   "version": "3.12.3"
  }
 },
 "nbformat": 4,
 "nbformat_minor": 2
}
