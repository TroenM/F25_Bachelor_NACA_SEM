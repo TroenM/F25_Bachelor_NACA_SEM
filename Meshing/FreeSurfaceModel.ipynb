{
 "cells": [
  {
   "cell_type": "code",
   "execution_count": 103,
   "id": "e12a2994",
   "metadata": {},
   "outputs": [],
   "source": [
    "from mesh_library import naca_4digit\n",
    "import matplotlib.pyplot as plt\n",
    "import numpy as np\n",
    "import matplotlib.patches as patches"
   ]
  },
  {
   "cell_type": "code",
   "execution_count": 57,
   "id": "cf02abb8",
   "metadata": {},
   "outputs": [],
   "source": [
    "x_range = [-4, 4]\n",
    "y_range = [-1.5, 0]\n",
    "airfoil = naca_4digit(\"0012\", n = 500, alpha = 10)\n",
    "airfoil[:,1] -= 0.5\n",
    "x = np.linspace(*x_range, 100)\n",
    "y = np.linspace(*y_range, 100)"
   ]
  },
  {
   "cell_type": "markdown",
   "id": "587fc7d9",
   "metadata": {},
   "source": [
    "# Free surface"
   ]
  },
  {
   "cell_type": "code",
   "execution_count": 158,
   "id": "752420dc",
   "metadata": {},
   "outputs": [
    {
     "data": {
      "text/plain": [
       "<matplotlib.patches.FancyArrowPatch at 0x7f8fe5a4edb0>"
      ]
     },
     "execution_count": 158,
     "metadata": {},
     "output_type": "execute_result"
    },
    {
     "data": {
      "image/png": "[encoded data removed]",
      "text/plain": [
       "<Figure size 800x400 with 1 Axes>"
      ]
     },
     "metadata": {},
     "output_type": "display_data"
    }
   ],
   "source": [
    "fig, ax = plt.subplots(figsize=(8, 4), dpi = 100) # Turn dpi to 500 before use in report\n",
    "\n",
    "ax.plot(airfoil[:,0], airfoil[:,1], color = \"black\", linewidth = 5e-1)\n",
    "ax.plot(x, np.ones_like(x)*y_range[0], color = \"black\", zorder = 0, linewidth = 5e-1) #bed\n",
    "ax.plot(x, np.sin(3*x + 3)/10, color = \"black\", linewidth = 5e-1) #top\n",
    "y_in = y[y <= np.sin(3*x_range[0] + 3)/10 + 1e-3]\n",
    "ax.plot(np.ones_like(y_in)*x_range[0], y_in, color = \"black\", linewidth = 5e-1) #left\n",
    "y_out = np.copy(y)\n",
    "y_out[-1] = np.sin(3*x_range[1] + 3)/10 - 1e-2\n",
    "ax.plot(np.ones_like(y_out)*x_range[1], y_out, color = \"black\", linewidth = 5e-1) #right\n",
    "ax.axis(\"equal\")\n",
    "ax.set_xlim([-5, 6])\n",
    "ax.set_axis_off()\n",
    "\n",
    "\n",
    "ax.quiver([-4, -4, 4, 4, -2, 0.8], [-1.1, -0.5, -1.1, -0.5, y_range[0], y_range[0]], 1, 0, \n",
    "          angles='xy', scale_units='xy', scale=1, color = \"black\", width = 3e-3, zorder=1) # V_inf\n",
    "ax.quiver([-2.5], [0.8], 0, -0.7, angles='xy', scale_units='xy', scale=1, color = \"black\", width = 3e-3, zorder=1)\n",
    "\n",
    "style = \"Simple, tail_width=0.1, head_width=4, head_length=2\"\n",
    "kw = dict(arrowstyle=style, color=\"k\")\n",
    "a1 = patches.FancyArrowPatch((-1e-1, -0.4), (0.5, -0.6),connectionstyle=\"arc3,rad=.25\", **kw)\n",
    "a2 = patches.FancyArrowPatch((-1e-1, -0.4), (0.5, -0.4),connectionstyle=\"arc3,rad=-.25\", **kw)\n",
    "\n",
    "ax.add_patch(a1)\n",
    "ax.add_patch(a2)"
   ]
  },
  {
   "cell_type": "markdown",
   "id": "b654fc5b",
   "metadata": {},
   "source": [
    "# Channel flow"
   ]
  },
  {
   "cell_type": "code",
   "execution_count": 157,
   "id": "e6a48e1c",
   "metadata": {},
   "outputs": [
    {
     "data": {
      "text/plain": [
       "<matplotlib.patches.FancyArrowPatch at 0x7f8fe5d116a0>"
      ]
     },
     "execution_count": 157,
     "metadata": {},
     "output_type": "execute_result"
    },
    {
     "data": {
      "image/png": "[encoded data removed]",
      "text/plain": [
       "<Figure size 800x400 with 1 Axes>"
      ]
     },
     "metadata": {},
     "output_type": "display_data"
    }
   ],
   "source": [
    "x_range = [-4, 4]\n",
    "y_range = [-1.5, 0.5]\n",
    "x = np.linspace(*x_range, 100)\n",
    "y = np.linspace(*y_range, 100)\n",
    "fig, ax = plt.subplots(figsize=(8, 4), dpi = 100) #Turn dpi to 500 before use in report\n",
    "\n",
    "ax.plot(airfoil[:,0], airfoil[:,1], color = \"black\", linewidth = 5e-1)\n",
    "ax.plot(x, np.ones_like(x)*y_range[0], color = \"black\", zorder = 0, linewidth = 5e-1) #bed\n",
    "ax.plot(x, np.ones_like(x)*y_range[1], color = \"black\", linewidth = 5e-1) #top\n",
    "ax.plot(np.ones_like(y)*x_range[0], y, color = \"black\", linewidth = 5e-1) #left\n",
    "ax.plot(np.ones_like(y)*x_range[1], y, color = \"black\", linewidth = 5e-1) #right\n",
    "ax.axis(\"equal\")\n",
    "ax.set_xlim([-5, 6])\n",
    "ax.set_axis_off()\n",
    "\n",
    "ax.quiver([-4, -4, 4, 4, -2, 0.8, -2, 0.8], [-1, -0.1, -1, -0.1, y_range[0], y_range[0], y_range[1], y_range[1]], 1, 0, \n",
    "          angles='xy', scale_units='xy', scale=1, color = \"black\", width = 3e-3, zorder=1) # V_inf\n",
    "\n",
    "style = \"Simple, tail_width=0.1, head_width=4, head_length=2\"\n",
    "kw = dict(arrowstyle=style, color=\"k\")\n",
    "a1 = patches.FancyArrowPatch((-1e-1, -0.4), (0.5, -0.6),connectionstyle=\"arc3,rad=.25\", **kw)\n",
    "a2 = patches.FancyArrowPatch((-1e-1, -0.4), (0.5, -0.4),connectionstyle=\"arc3,rad=-.25\", **kw)\n",
    "\n",
    "ax.add_patch(a1)\n",
    "ax.add_patch(a2)"
   ]
  },
  {
   "cell_type": "code",
   "execution_count": null,
   "id": "79ca30e8",
   "metadata": {},
   "outputs": [],
   "source": []
  }
 ],
 "metadata": {
  "kernelspec": {
   "display_name": "firedrake",
   "language": "python",
   "name": "python3"
  },
  "language_info": {
   "codemirror_mode": {
    "name": "ipython",
    "version": 3
   },
   "file_extension": ".py",
   "mimetype": "text/x-python",
   "name": "python",
   "nbconvert_exporter": "python",
   "pygments_lexer": "ipython3",
   "version": "3.12.3"
  }
 },
 "nbformat": 4,
 "nbformat_minor": 5
}
