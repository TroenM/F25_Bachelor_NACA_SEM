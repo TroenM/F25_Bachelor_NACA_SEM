{
 "cells": [
  {
   "cell_type": "code",
   "execution_count": 1,
   "metadata": {},
   "outputs": [],
   "source": [
    "from mesh_library import *"
   ]
  },
  {
   "cell_type": "code",
   "execution_count": 2,
   "metadata": {},
   "outputs": [],
   "source": [
    "mesh = mesh_gen_uniform_2D_grid(4,3, \"triangle\")"
   ]
  },
  {
   "cell_type": "code",
   "execution_count": 3,
   "metadata": {},
   "outputs": [],
   "source": [
    "meshio.write(\"mesh.msh\", mesh, file_format=\"gmsh22\")"
   ]
  },
  {
   "cell_type": "code",
   "execution_count": 4,
   "metadata": {},
   "outputs": [
    {
     "data": {
      "text/plain": [
       "{'gmsh:physical': [array([1, 1, 1, 2, 2, 2, 3, 3, 4, 4]),\n",
       "  array([6, 6, 6, 6, 6, 6, 6, 6, 6, 6, 6, 6])],\n",
       " 'gmsh:geometrical': [array([0, 0, 0, 0, 0, 0, 0, 0, 0, 0]),\n",
       "  array([0, 0, 0, 0, 0, 0, 0, 0, 0, 0, 0, 0])]}"
      ]
     },
     "execution_count": 4,
     "metadata": {},
     "output_type": "execute_result"
    }
   ],
   "source": [
    "mesh.cell_data"
   ]
  },
  {
   "cell_type": "code",
   "execution_count": 5,
   "metadata": {},
   "outputs": [
    {
     "data": {
      "image/png": "[encoded data removed]",
      "text/plain": [
       "<Figure size 600x600 with 1 Axes>"
      ]
     },
     "metadata": {},
     "output_type": "display_data"
    }
   ],
   "source": [
    "plot_mesh(mesh)"
   ]
  },
  {
   "cell_type": "code",
   "execution_count": 6,
   "metadata": {},
   "outputs": [],
   "source": [
    "def project_vector(v: np.ndarray, u: np.ndarray) -> np.ndarray:\n",
    "    \"\"\"\n",
    "    Projects vector v onto vector u in the plane.\n",
    "    \n",
    "    Parameters:\n",
    "        v (np.ndarray): The vector to be projected.\n",
    "        u (np.ndarray): The vector onto which v is projected.\n",
    "        \n",
    "    Returns:\n",
    "        np.ndarray: The projection of v onto u.\n",
    "    \"\"\"\n",
    "    u_dot_u = np.dot(u, u)  # Squared magnitude of u\n",
    "    if u_dot_u == 0:\n",
    "        raise ValueError(\"Cannot project onto a zero vector.\")\n",
    "    \n",
    "    projection = (np.dot(v, u) / u_dot_u) * u\n",
    "    return projection"
   ]
  },
  {
   "cell_type": "code",
   "execution_count": null,
   "metadata": {},
   "outputs": [],
   "source": [
    "def find_point_on_boundary(point : np.ndarray, BP1 : np.ndarray, BP2 : np.ndarray) -> np.ndarray:\n",
    "    BP_vec = BP2 - BP1\n",
    "    point_vec = point - BP1\n",
    "    projected_point_vec = project_vector(point_vec, BP_vec)\n",
    "    orthogornal_vec = point_vec - projected_point_vec\n",
    "    a = (projected_point_vec/BP_vec)[0]\n",
    "    # if point is on the front half of the NACA airfoil\n",
    "    if a < 0:\n",
    "        y_sign = np.sign(point[1] - BP1[1])\n",
    "        x_sign = np.sign(point[0] - BP1[0])\n",
    "        if y_sign != 0 and x_sign != 0:\n",
    "            b = ((2*y_sign - point)/point_vec[1])[0]\n",
    "            if -3 < b*point_vec[0] < 3:\n",
    "                return point + point_vec*b\n",
    "            c = ((3*x_sign - point)/point_vec[0])[0]\n",
    "            return point + orthogornal_vec*c\n",
    "        if y_sign == 0:\n",
    "            return np.array([x_sign*3, point[1]])\n",
    "        if x_sign == 0:\n",
    "            return np.array([point[0], y_sign*2])\n",
    "    # if point is on the back part of the NACA airfoil\n",
    "    if a > 1:\n",
    "        point_vec = point - BP2\n",
    "        y_sign = np.sign(point[1] - BP1[1])\n",
    "        x_sign = np.sign(point[0] - BP1[0])\n",
    "        if y_sign != 0 and x_sign != 0:\n",
    "            b = ((2*y_sign - point)/point_vec[1])[0]\n",
    "            if -3 < b*point_vec[0] < 3:\n",
    "                return point + point_vec*b\n",
    "            c = ((3*x_sign - point)/point_vec[0])[0]\n",
    "            return point + orthogornal_vec*c\n",
    "        if y_sign == 0:\n",
    "            return np.array([x_sign*3, point[1]])\n",
    "        if x_sign == 0:\n",
    "            return np.array([point[0], y_sign*2])\n",
    "    \n",
    "\n",
    "    # if point is between the brændpunkter\n",
    "    if orthogornal_vec[1] > 0:\n",
    "        b = ((2 - point)/orthogornal_vec[1])[0]\n",
    "        if b*orthogornal_vec[0] < 3:\n",
    "            return point + orthogornal_vec*b \n",
    "        c = ((3 - point)/orthogornal_vec[0])[0]\n",
    "        return point + orthogornal_vec*c\n",
    "    b = ((-2 - point)/orthogornal_vec[1])[0]\n",
    "    print(b)\n",
    "    if b*orthogornal_vec[0] < 3:\n",
    "        return point + orthogornal_vec*b \n",
    "    c = ((-3 - point)/orthogornal_vec[0])[0]\n",
    "    return point + orthogornal_vec*c"
   ]
  },
  {
   "cell_type": "code",
   "execution_count": 77,
   "metadata": {},
   "outputs": [],
   "source": [
    "def transfinite_line(N : int, p1 : np.ndarray, p2 : np.ndarray, func : callable = lambda x: x) -> np.ndarray:\n",
    "    \"\"\"\n",
    "    Generates a line from p1 to p2 with N points, where the spacing between points\n",
    "    is dictated by the function `func`.\n",
    "    \n",
    "    Parameters:\n",
    "        N (int): Number of points including p1 and p2.\n",
    "        p1 (np.ndarray): Start point in the plane (2D or 3D).\n",
    "        p2 (np.ndarray): End point in the plane (2D or 3D).\n",
    "        func (callable): Function that defines the spacing transformation. \n",
    "                         It should take a parameter in [0, 1] and return a value in [0, 1].\n",
    "\n",
    "    Returns:\n",
    "        np.ndarray: An array of shape (N, dim) containing the generated points.\n",
    "    \"\"\"\n",
    "    p1, p2 = np.array(p1), np.array(p2)\n",
    "    assert p1.shape == p2.shape, \"p1 and p2 must have the same dimensions\"\n",
    "    \n",
    "    # Generate uniform parameter values in [0,1]\n",
    "    s_uniform = np.linspace(0, 1, N+1)\n",
    "    \n",
    "    # Apply transformation function\n",
    "    s_transformed = np.array([func(s) for s in s_uniform])\n",
    "    \n",
    "    # Normalize transformed values to stay in [0,1] range\n",
    "    s_transformed = (s_transformed - s_transformed[0]) / (s_transformed[-1] - s_transformed[0])\n",
    "    \n",
    "    # Compute interpolated points\n",
    "    points = (1 - s_transformed)[:, None] * p1 + s_transformed[:, None] * p2\n",
    "    \n",
    "    return points[1:,:]"
   ]
  },
  {
   "cell_type": "code",
   "execution_count": 78,
   "metadata": {},
   "outputs": [],
   "source": [
    "def NACA_mesh(points_on_airfoil : int, points_towards_airfoil : int, NACA_name : str, angle_of_attack : float = 0, func : callable = lambda x : x, BP1 : np.ndarray = np.array([-0.1,0]), BP2 : np.ndarray = np.array([0.1,0])) -> meshio.Mesh:\n",
    "    try:\n",
    "        NACA_points = np.loadtxt(f\"NACA_{NACA_name}.txt\")\n",
    "    except:\n",
    "        raise ValueError(\"The data for this NACA-airfoil is not in the directory\")\n",
    "    # Defining points\n",
    "    NACA_points = NACA_points[::(200//points_on_airfoil),:]\n",
    "    NACA_points = NACA_points - np.array([0.5,0])\n",
    "    angle_of_attack_rad = angle_of_attack*np.pi/180\n",
    "    rot_mat = np.array([\n",
    "        [np.cos(angle_of_attack_rad), -np.sin(angle_of_attack_rad)],\n",
    "        [np.sin(angle_of_attack_rad), np.cos(angle_of_attack_rad)]\n",
    "    ])\n",
    "    NACA_points = (NACA_points)@rot_mat\n",
    "\n",
    "    BP1 = rot_mat@BP1\n",
    "    BP2 = rot_mat@BP2\n",
    "    for i in range(len(NACA_points)):\n",
    "        p1 = NACA_points[i]\n",
    "        p2 = find_point_on_boundary(p1, BP1, BP2)\n",
    "        NACA_points = np.vstack([NACA_points,transfinite_line(points_towards_airfoil, p1, p2, func)])\n",
    "\n",
    "    final_points = np.append(NACA_points, np.zeros((NACA_points.shape[0],1)), axis=1)\n",
    "\n",
    "    # Defining cells\n",
    "    cells = [(\"polygon\", list(range(points_on_airfoil+1)))]  # Airfoil as a mesh\n",
    "\n",
    "    return meshio.Mesh(points=final_points, cells=cells)"
   ]
  },
  {
   "cell_type": "code",
   "execution_count": 79,
   "metadata": {},
   "outputs": [
    {
     "name": "stdout",
     "output_type": "stream",
     "text": [
      "HEJ\n",
      "[-0.154508  0.074468]\n",
      "[0.2 0. ]\n",
      "[-0.054508  0.074468]\n",
      "[-0.054508 -0.      ]\n",
      "-0.27253999999999984\n",
      "HEJ\n",
      "[-0.293893  0.072143]\n",
      "[0.2 0. ]\n",
      "[-0.193893  0.072143]\n",
      "[-0.193893 -0.      ]\n",
      "-0.9694649999999997\n",
      "HEJ\n",
      "[-0.404508  0.057561]\n",
      "[0.2 0. ]\n",
      "[-0.304508  0.057561]\n",
      "[-0.304508 -0.      ]\n",
      "-1.52254\n",
      "HEJ\n",
      "[-0.475528  0.032367]\n",
      "[0.2 0. ]\n",
      "[-0.375528  0.032367]\n",
      "[-0.375528 -0.      ]\n",
      "-1.8776399999999995\n",
      "HEJ\n",
      "[-0.5  0. ]\n",
      "[0.2 0. ]\n",
      "[-0.4  0. ]\n",
      "[-0.4 -0. ]\n",
      "-2.0\n",
      "HEJ\n",
      "[-0.475528 -0.032367]\n",
      "[0.2 0. ]\n",
      "[-0.375528 -0.032367]\n",
      "[-0.375528 -0.      ]\n",
      "-1.8776399999999995\n",
      "HEJ\n",
      "[-0.404508 -0.057561]\n",
      "[0.2 0. ]\n",
      "[-0.304508 -0.057561]\n",
      "[-0.304508 -0.      ]\n",
      "-1.52254\n",
      "HEJ\n",
      "[-0.293893 -0.072143]\n",
      "[0.2 0. ]\n",
      "[-0.193893 -0.072143]\n",
      "[-0.193893 -0.      ]\n",
      "-0.9694649999999997\n",
      "HEJ\n",
      "[-0.154508 -0.074468]\n",
      "[0.2 0. ]\n",
      "[-0.054508 -0.074468]\n",
      "[-0.054508 -0.      ]\n",
      "-0.27253999999999984\n",
      "30.22289384208538\n"
     ]
    },
    {
     "name": "stderr",
     "output_type": "stream",
     "text": [
      "/var/folders/88/1197_r253tbcstwj4b_1zlf80000gn/T/ipykernel_43086/2032677478.py:6: RuntimeWarning: invalid value encountered in divide\n",
      "  a = (projected_point_vec/BP_vec)[0]\n"
     ]
    },
    {
     "data": {
      "image/png": "[encoded data removed]",
      "text/plain": [
       "<Figure size 600x600 with 1 Axes>"
      ]
     },
     "metadata": {},
     "output_type": "display_data"
    }
   ],
   "source": [
    "plot_mesh(NACA_mesh(20,2,\"0015\"))"
   ]
  },
  {
   "cell_type": "code",
   "execution_count": 74,
   "metadata": {},
   "outputs": [
    {
     "data": {
      "text/plain": [
       "array([[1, 2, 1, 2, 1, 2, 1, 2]])"
      ]
     },
     "execution_count": 74,
     "metadata": {},
     "output_type": "execute_result"
    }
   ],
   "source": [
    "np.tile(np.array([[1,2]]),4)"
   ]
  },
  {
   "cell_type": "code",
   "execution_count": null,
   "metadata": {},
   "outputs": [],
   "source": []
  }
 ],
 "metadata": {
  "kernelspec": {
   "display_name": "Python 3",
   "language": "python",
   "name": "python3"
  },
  "language_info": {
   "codemirror_mode": {
    "name": "ipython",
    "version": 3
   },
   "file_extension": ".py",
   "mimetype": "text/x-python",
   "name": "python",
   "nbconvert_exporter": "python",
   "pygments_lexer": "ipython3",
   "version": "3.10.4"
  }
 },
 "nbformat": 4,
 "nbformat_minor": 2
}
