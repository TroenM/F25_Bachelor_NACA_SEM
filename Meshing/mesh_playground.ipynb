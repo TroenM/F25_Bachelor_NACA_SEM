{
 "cells": [
  {
   "cell_type": "code",
   "execution_count": 6,
   "metadata": {},
   "outputs": [],
   "source": [
    "from mesh_library import *"
   ]
  },
  {
   "cell_type": "code",
   "execution_count": 7,
   "metadata": {},
   "outputs": [
    {
     "name": "stdout",
     "output_type": "stream",
     "text": [
      "\n"
     ]
    }
   ],
   "source": [
    "mesh = meshio_to_fd(naca_mesh(\"0012\", n_fs = 500))"
   ]
  },
  {
   "cell_type": "code",
   "execution_count": 8,
   "metadata": {},
   "outputs": [],
   "source": [
    "V = fd.FunctionSpace(mesh, \"CG\", 1)\n",
    "v = fd.TestFunction(V)\n",
    "u = fd.TrialFunction(V)\n",
    "\n",
    "a = fd.inner(u,v)*fd.dx\n",
    "L = fd.Constant(0)*v*fd.dx\n",
    "\n",
    "x,y = fd.SpatialCoordinate(V)\n",
    "\n",
    "u_sol = fd.Function(V)\n",
    "DBC = fd.DirichletBC(V, fd.sin(x)*fd.sin(y), \"on_boundary\")\n",
    "\n",
    "fd.solve(a == L, u_sol, bcs = DBC)\n",
    "\n",
    "output = fd.VTKFile(\"output.pvd\")\n",
    "output.write(u_sol)"
   ]
  },
  {
   "cell_type": "code",
   "execution_count": 9,
   "metadata": {},
   "outputs": [],
   "source": [
    "mesh.coordinates.dat.data[:] = shift_surface(mesh, lambda x: 1, lambda x: 0.5*np.sin(x) + 1).coordinates.dat.data"
   ]
  },
  {
   "cell_type": "code",
   "execution_count": 10,
   "metadata": {},
   "outputs": [],
   "source": [
    "V = fd.FunctionSpace(mesh, \"CG\", 1)\n",
    "v = fd.TestFunction(V)\n",
    "u = fd.TrialFunction(V)\n",
    "\n",
    "a = fd.inner(u,v)*fd.dx\n",
    "L = fd.Constant(0)*v*fd.dx\n",
    "\n",
    "x,y = fd.SpatialCoordinate(V)\n",
    "\n",
    "u = fd.Function(V)\n",
    "DBC = fd.DirichletBC(V, fd.sin(x)*fd.sin(y), \"on_boundary\")\n",
    "\n",
    "fd.solve(a == L, u, bcs = DBC)\n",
    "\n",
    "u_sol.dat.data[:] = u.dat.data\n",
    "\n",
    "output.write(u_sol)"
   ]
  },
  {
   "cell_type": "code",
   "execution_count": null,
   "metadata": {},
   "outputs": [],
   "source": []
  }
 ],
 "metadata": {
  "kernelspec": {
   "display_name": "firedrake",
   "language": "python",
   "name": "python3"
  },
  "language_info": {
   "codemirror_mode": {
    "name": "ipython",
    "version": 3
   },
   "file_extension": ".py",
   "mimetype": "text/x-python",
   "name": "python",
   "nbconvert_exporter": "python",
   "pygments_lexer": "ipython3",
   "version": "3.12.3"
  }
 },
 "nbformat": 4,
 "nbformat_minor": 2
}
