{
 "cells": [
  {
   "cell_type": "code",
   "execution_count": 1,
   "metadata": {},
   "outputs": [
    {
     "name": "stdout",
     "output_type": "stream",
     "text": [
      "Libraries fetched!...\n",
      "\n"
     ]
    }
   ],
   "source": [
    "import os\n",
    "from fs_solver import *\n",
    "#from FsSolver import *"
   ]
  },
  {
   "cell_type": "code",
   "execution_count": 2,
   "metadata": {},
   "outputs": [
    {
     "name": "stdout",
     "output_type": "stream",
     "text": [
      "\n"
     ]
    }
   ],
   "source": [
    "\n",
    "########### Trick: Kør først gang med max_iter_fs = 0, næste gang kører hurtigere ###########\n",
    "\n",
    "kwargs = {\"ylim\":[-4,1.5], \"xlim\":[-13,13], \"V_inf\": 10, \"g_div\": 70, \"write\":True,\n",
    "           \"n_airfoil\": 50,\n",
    "           \"n_fs\": 100,\n",
    "           \"n_bed\": 20,\n",
    "           \"n_inlet\": 10,\n",
    "           \"n_outlet\": 10,\n",
    "           \"rtol\": 1e-8,\n",
    "           \"fs_rtol\": 1e-2,\n",
    "           \"max_iter_fs\": 7, \n",
    "           \"dt\": 1e-2,\n",
    "           \"a\":1, \"b\":1,\n",
    "           \"damping\":0.2}\n",
    "FS = FsSolver(\"0012\", alpha = 10, P=3, kwargs = kwargs)\n",
    "#PFS = PotentialFlowSolver(\"0012\", alpha = 10, P=4, kwargs=kwargs)"
   ]
  },
  {
   "cell_type": "code",
   "execution_count": 3,
   "metadata": {},
   "outputs": [
    {
     "name": "stdout",
     "output_type": "stream",
     "text": [
      "[0.0498296  0.28259773]\n",
      "[ 8.67245368 -1.52922262]\n",
      "PoissonSolver stagnated in 6 iterations\n",
      "\t Total time: 3.8423779010772705\n",
      "\t dGamma: 6.38585040858944e-08\n",
      "\t dot product: -9.903448450170338e-06\n",
      "\n",
      "\n",
      "initialization done\n",
      "The height at the beginning of the boundary is:  1.5\n",
      "[0.0498296  0.28259773]\n",
      "[-9.26791066  1.6341849 ]\n",
      "PoissonSolver converged in 11 iterations\n",
      "\t Total time: 7.561393976211548\n",
      "\t dGamma: 1.816784774775064e-07\n",
      "\t dot product: 6.207934578255557e-07\n",
      "\n",
      "\n",
      "\t iteration: 1\n",
      "\t residual norm 9.012238918248983e-06\n",
      "\t iteration time: 7.926560640335083\n",
      "\n",
      "The height at the beginning of the boundary is:  1.5\n",
      "[0.0498296  0.28259773]\n",
      "[-15.94857896   2.81216568]\n",
      "PoissonSolver converged in 18 iterations\n",
      "\t Total time: 11.337254285812378\n",
      "\t dGamma: 1.2580782107444173e-05\n",
      "\t dot product: 2.558419071807918e-07\n",
      "\n",
      "\n",
      "\t iteration: 2\n",
      "\t residual norm 0.378138147857793\n",
      "\t iteration time: 11.663013935089111\n",
      "\n",
      "The height at the beginning of the boundary is:  1.5\n",
      "PoissonSolver diverged in 0 iterations\n",
      "\t Total time: 0.7636964321136475\n",
      "\t dGamma: 184713.77984555915\n",
      "\t dot product: -1148094.775224717\n",
      "\n",
      "\n",
      "\t iteration: 3\n",
      "\t residual norm 100.84653426190704\n",
      "\t iteration time: 1.0937354564666748\n",
      "\n",
      "The height at the beginning of the boundary is:  1.5\n",
      "PoissonSolver diverged in 0 iterations\n",
      "\t Total time: 0.7696044445037842\n",
      "\t dGamma: 5.625051062236946e+34\n",
      "\t dot product: 3.4962696017190226e+35\n",
      "\n",
      "\n",
      "\n",
      " ============================\n",
      " Fs diverged\n",
      " residuals norm 1242332264899.762 after 3 iterations\n",
      " Total solve time: 27.29528284072876\n",
      "============================\n",
      "\n"
     ]
    }
   ],
   "source": [
    "FS.solve()\n",
    "#PFS.solve()"
   ]
  },
  {
   "cell_type": "code",
   "execution_count": 4,
   "metadata": {},
   "outputs": [
    {
     "data": {
      "text/plain": [
       "[<matplotlib.lines.Line2D at 0xffff64ac3590>]"
      ]
     },
     "execution_count": 4,
     "metadata": {},
     "output_type": "execute_result"
    },
    {
     "data": {
      "image/png": "[encoded data removed]",
      "text/plain": [
       "<Figure size 640x480 with 1 Axes>"
      ]
     },
     "metadata": {},
     "output_type": "display_data"
    }
   ],
   "source": [
    "plt.plot(FS.fs_points[:, 0], FS.PhiTilde, 'r-', label='FS points')"
   ]
  },
  {
   "cell_type": "code",
   "execution_count": 5,
   "metadata": {},
   "outputs": [
    {
     "ename": "IndexError",
     "evalue": "list index out of range",
     "output_type": "error",
     "traceback": [
      "\u001b[0;31m---------------------------------------------------------------------------\u001b[0m",
      "\u001b[0;31mIndexError\u001b[0m                                Traceback (most recent call last)",
      "Cell \u001b[0;32mIn[5], line 1\u001b[0m\n\u001b[0;32m----> 1\u001b[0m plt\u001b[38;5;241m.\u001b[39mplot(FS\u001b[38;5;241m.\u001b[39mfs_points[:,\u001b[38;5;241m0\u001b[39m], \u001b[43mFS\u001b[49m\u001b[38;5;241;43m.\u001b[39;49m\u001b[43metas\u001b[49m\u001b[43m[\u001b[49m\u001b[38;5;241;43m9\u001b[39;49m\u001b[43m]\u001b[49m)\n",
      "\u001b[0;31mIndexError\u001b[0m: list index out of range"
     ]
    }
   ],
   "source": [
    "plt.plot(FS.fs_points[:,0], FS.etas[9])"
   ]
  },
  {
   "cell_type": "code",
   "execution_count": null,
   "metadata": {},
   "outputs": [
    {
     "ename": "ConvergenceError",
     "evalue": "Nonlinear solve failed to converge after 7 nonlinear iterations.\nReason:\n   DIVERGED_DTOL",
     "output_type": "error",
     "traceback": [
      "\u001b[0;31m---------------------------------------------------------------------------\u001b[0m",
      "\u001b[0;31mConvergenceError\u001b[0m                          Traceback (most recent call last)",
      "Cell \u001b[0;32mIn[6], line 45\u001b[0m\n\u001b[1;32m     42\u001b[0m F \u001b[38;5;241m=\u001b[39m F1 \u001b[38;5;241m+\u001b[39m F2\n\u001b[1;32m     44\u001b[0m solver_params \u001b[38;5;241m=\u001b[39m {\u001b[38;5;124m\"\u001b[39m\u001b[38;5;124mnewton_solver\u001b[39m\u001b[38;5;124m\"\u001b[39m: {\u001b[38;5;124m\"\u001b[39m\u001b[38;5;124mrelative_tolerance\u001b[39m\u001b[38;5;124m\"\u001b[39m: \u001b[38;5;241m1e-6\u001b[39m,}}\n\u001b[0;32m---> 45\u001b[0m \u001b[43mfd\u001b[49m\u001b[38;5;241;43m.\u001b[39;49m\u001b[43msolve\u001b[49m\u001b[43m(\u001b[49m\u001b[43mF\u001b[49m\u001b[43m \u001b[49m\u001b[38;5;241;43m==\u001b[39;49m\u001b[43m \u001b[49m\u001b[38;5;241;43m0\u001b[39;49m\u001b[43m,\u001b[49m\u001b[43m \u001b[49m\u001b[43meta_phi\u001b[49m\u001b[43m,\u001b[49m\u001b[43m \u001b[49m\u001b[43msolver_parameters\u001b[49m\u001b[38;5;241;43m=\u001b[39;49m\u001b[43msolver_params\u001b[49m\u001b[43m)\u001b[49m\n\u001b[1;32m     47\u001b[0m eta_n\u001b[38;5;241m.\u001b[39massign(eta_phi\u001b[38;5;241m.\u001b[39msub(\u001b[38;5;241m0\u001b[39m))\n\u001b[1;32m     48\u001b[0m phi_n\u001b[38;5;241m.\u001b[39massign(eta_phi\u001b[38;5;241m.\u001b[39msub(\u001b[38;5;241m1\u001b[39m))\n",
      "File \u001b[0;32mpetsc4py/PETSc/Log.pyx:188\u001b[0m, in \u001b[0;36mpetsc4py.PETSc.Log.EventDecorator.decorator.wrapped_func\u001b[0;34m()\u001b[0m\n",
      "File \u001b[0;32mpetsc4py/PETSc/Log.pyx:189\u001b[0m, in \u001b[0;36mpetsc4py.PETSc.Log.EventDecorator.decorator.wrapped_func\u001b[0;34m()\u001b[0m\n",
      "File \u001b[0;32m/home/firedrake/firedrake/src/firedrake/firedrake/adjoint_utils/solving.py:57\u001b[0m, in \u001b[0;36mannotate_solve.<locals>.wrapper\u001b[0;34m(*args, **kwargs)\u001b[0m\n\u001b[1;32m     54\u001b[0m     tape\u001b[38;5;241m.\u001b[39madd_block(block)\n\u001b[1;32m     56\u001b[0m \u001b[38;5;28;01mwith\u001b[39;00m stop_annotating():\n\u001b[0;32m---> 57\u001b[0m     output \u001b[38;5;241m=\u001b[39m \u001b[43msolve\u001b[49m\u001b[43m(\u001b[49m\u001b[38;5;241;43m*\u001b[39;49m\u001b[43margs\u001b[49m\u001b[43m,\u001b[49m\u001b[43m \u001b[49m\u001b[38;5;241;43m*\u001b[39;49m\u001b[38;5;241;43m*\u001b[39;49m\u001b[43mkwargs\u001b[49m\u001b[43m)\u001b[49m\n\u001b[1;32m     59\u001b[0m \u001b[38;5;28;01mif\u001b[39;00m annotate:\n\u001b[1;32m     60\u001b[0m     \u001b[38;5;28;01mif\u001b[39;00m \u001b[38;5;28mhasattr\u001b[39m(args[\u001b[38;5;241m1\u001b[39m], \u001b[38;5;124m\"\u001b[39m\u001b[38;5;124mcreate_block_variable\u001b[39m\u001b[38;5;124m\"\u001b[39m):\n",
      "File \u001b[0;32m/home/firedrake/firedrake/src/firedrake/firedrake/solving.py:141\u001b[0m, in \u001b[0;36msolve\u001b[0;34m(*args, **kwargs)\u001b[0m\n\u001b[1;32m    139\u001b[0m \u001b[38;5;66;03m# Call variational problem solver if we get an equation\u001b[39;00m\n\u001b[1;32m    140\u001b[0m \u001b[38;5;28;01mif\u001b[39;00m \u001b[38;5;28misinstance\u001b[39m(args[\u001b[38;5;241m0\u001b[39m], ufl\u001b[38;5;241m.\u001b[39mclasses\u001b[38;5;241m.\u001b[39mEquation):\n\u001b[0;32m--> 141\u001b[0m     \u001b[43m_solve_varproblem\u001b[49m\u001b[43m(\u001b[49m\u001b[38;5;241;43m*\u001b[39;49m\u001b[43margs\u001b[49m\u001b[43m,\u001b[49m\u001b[43m \u001b[49m\u001b[38;5;241;43m*\u001b[39;49m\u001b[38;5;241;43m*\u001b[39;49m\u001b[43mkwargs\u001b[49m\u001b[43m)\u001b[49m\n\u001b[1;32m    142\u001b[0m \u001b[38;5;28;01melse\u001b[39;00m:\n\u001b[1;32m    143\u001b[0m     \u001b[38;5;66;03m# Solve pre-assembled system\u001b[39;00m\n\u001b[1;32m    144\u001b[0m     \u001b[38;5;28;01mreturn\u001b[39;00m _la_solve(\u001b[38;5;241m*\u001b[39margs, \u001b[38;5;241m*\u001b[39m\u001b[38;5;241m*\u001b[39mkwargs)\n",
      "File \u001b[0;32m/home/firedrake/firedrake/src/firedrake/firedrake/solving.py:195\u001b[0m, in \u001b[0;36m_solve_varproblem\u001b[0;34m(*args, **kwargs)\u001b[0m\n\u001b[1;32m    188\u001b[0m \u001b[38;5;66;03m# Create solver and call solve\u001b[39;00m\n\u001b[1;32m    189\u001b[0m solver \u001b[38;5;241m=\u001b[39m vs\u001b[38;5;241m.\u001b[39mNonlinearVariationalSolver(problem, solver_parameters\u001b[38;5;241m=\u001b[39msolver_parameters,\n\u001b[1;32m    190\u001b[0m                                        nullspace\u001b[38;5;241m=\u001b[39mnullspace,\n\u001b[1;32m    191\u001b[0m                                        transpose_nullspace\u001b[38;5;241m=\u001b[39mnullspace_T,\n\u001b[1;32m    192\u001b[0m                                        near_nullspace\u001b[38;5;241m=\u001b[39mnear_nullspace,\n\u001b[1;32m    193\u001b[0m                                        options_prefix\u001b[38;5;241m=\u001b[39moptions_prefix,\n\u001b[1;32m    194\u001b[0m                                        appctx\u001b[38;5;241m=\u001b[39mappctx)\n\u001b[0;32m--> 195\u001b[0m \u001b[43msolver\u001b[49m\u001b[38;5;241;43m.\u001b[39;49m\u001b[43msolve\u001b[49m\u001b[43m(\u001b[49m\u001b[43m)\u001b[49m\n",
      "File \u001b[0;32mpetsc4py/PETSc/Log.pyx:188\u001b[0m, in \u001b[0;36mpetsc4py.PETSc.Log.EventDecorator.decorator.wrapped_func\u001b[0;34m()\u001b[0m\n",
      "File \u001b[0;32mpetsc4py/PETSc/Log.pyx:189\u001b[0m, in \u001b[0;36mpetsc4py.PETSc.Log.EventDecorator.decorator.wrapped_func\u001b[0;34m()\u001b[0m\n",
      "File \u001b[0;32m/home/firedrake/firedrake/src/firedrake/firedrake/adjoint_utils/variational_solver.py:104\u001b[0m, in \u001b[0;36mNonlinearVariationalSolverMixin._ad_annotate_solve.<locals>.wrapper\u001b[0;34m(self, **kwargs)\u001b[0m\n\u001b[1;32m    101\u001b[0m     tape\u001b[38;5;241m.\u001b[39madd_block(block)\n\u001b[1;32m    103\u001b[0m \u001b[38;5;28;01mwith\u001b[39;00m stop_annotating():\n\u001b[0;32m--> 104\u001b[0m     out \u001b[38;5;241m=\u001b[39m \u001b[43msolve\u001b[49m\u001b[43m(\u001b[49m\u001b[38;5;28;43mself\u001b[39;49m\u001b[43m,\u001b[49m\u001b[43m \u001b[49m\u001b[38;5;241;43m*\u001b[39;49m\u001b[38;5;241;43m*\u001b[39;49m\u001b[43mkwargs\u001b[49m\u001b[43m)\u001b[49m\n\u001b[1;32m    106\u001b[0m \u001b[38;5;28;01mif\u001b[39;00m annotate:\n\u001b[1;32m    107\u001b[0m     block\u001b[38;5;241m.\u001b[39madd_output(\u001b[38;5;28mself\u001b[39m\u001b[38;5;241m.\u001b[39m_ad_problem\u001b[38;5;241m.\u001b[39m_ad_u\u001b[38;5;241m.\u001b[39mcreate_block_variable())\n",
      "File \u001b[0;32m/home/firedrake/firedrake/src/firedrake/firedrake/variational_solver.py:330\u001b[0m, in \u001b[0;36mNonlinearVariationalSolver.solve\u001b[0;34m(self, bounds)\u001b[0m\n\u001b[1;32m    328\u001b[0m \u001b[38;5;28;01mif\u001b[39;00m problem\u001b[38;5;241m.\u001b[39mrestrict:\n\u001b[1;32m    329\u001b[0m     problem\u001b[38;5;241m.\u001b[39mu\u001b[38;5;241m.\u001b[39minterpolate(problem\u001b[38;5;241m.\u001b[39mu_restrict)\n\u001b[0;32m--> 330\u001b[0m \u001b[43msolving_utils\u001b[49m\u001b[38;5;241;43m.\u001b[39;49m\u001b[43mcheck_snes_convergence\u001b[49m\u001b[43m(\u001b[49m\u001b[38;5;28;43mself\u001b[39;49m\u001b[38;5;241;43m.\u001b[39;49m\u001b[43msnes\u001b[49m\u001b[43m)\u001b[49m\n\u001b[1;32m    332\u001b[0m \u001b[38;5;66;03m# Grab the comm associated with the `_problem` and call PETSc's garbage cleanup routine\u001b[39;00m\n\u001b[1;32m    333\u001b[0m comm \u001b[38;5;241m=\u001b[39m \u001b[38;5;28mself\u001b[39m\u001b[38;5;241m.\u001b[39m_problem\u001b[38;5;241m.\u001b[39mu_restrict\u001b[38;5;241m.\u001b[39mfunction_space()\u001b[38;5;241m.\u001b[39mmesh()\u001b[38;5;241m.\u001b[39m_comm\n",
      "File \u001b[0;32m/home/firedrake/firedrake/src/firedrake/firedrake/solving_utils.py:124\u001b[0m, in \u001b[0;36mcheck_snes_convergence\u001b[0;34m(snes)\u001b[0m\n\u001b[1;32m    122\u001b[0m         \u001b[38;5;28;01melse\u001b[39;00m:\n\u001b[1;32m    123\u001b[0m             msg \u001b[38;5;241m=\u001b[39m reason\n\u001b[0;32m--> 124\u001b[0m         \u001b[38;5;28;01mraise\u001b[39;00m ConvergenceError(\u001b[38;5;124mr\u001b[39m\u001b[38;5;124m\"\"\"\u001b[39m\u001b[38;5;124mNonlinear solve failed to converge after \u001b[39m\u001b[38;5;132;01m%d\u001b[39;00m\u001b[38;5;124m nonlinear iterations.\u001b[39m\n\u001b[1;32m    125\u001b[0m \u001b[38;5;124mReason:\u001b[39m\n\u001b[1;32m    126\u001b[0m \u001b[38;5;124m   \u001b[39m\u001b[38;5;132;01m%s\u001b[39;00m\u001b[38;5;124m\"\"\"\u001b[39m \u001b[38;5;241m%\u001b[39m (snes\u001b[38;5;241m.\u001b[39mgetIterationNumber(), msg))\n",
      "\u001b[0;31mConvergenceError\u001b[0m: Nonlinear solve failed to converge after 7 nonlinear iterations.\nReason:\n   DIVERGED_DTOL"
     ]
    }
   ],
   "source": [
    "model = FS.model\n",
    "# Mesh and function spaces\n",
    "number_of_points = FS.fs_points.shape[0]\n",
    "fs_mesh = fd.IntervalMesh(number_of_points-1, FS.xlim[0], FS.xlim[1])\n",
    "V_eta = fd.FunctionSpace(fs_mesh, \"CG\", 1)\n",
    "V_phi = fd.FunctionSpace(fs_mesh, \"CG\", 1)\n",
    "\n",
    "# Defining unknown functions\n",
    "W = V_eta * V_phi\n",
    "eta_phi = fd.Function(W)\n",
    "eta, phi = fd.split(eta_phi)\n",
    "psi, zeta = fd.TestFunctions(W)\n",
    "\n",
    "# Defining known functions\n",
    "phi_n = fd.Function(V_phi)\n",
    "eta_n = fd.Function(V_eta)\n",
    "w_n = fd.Function(V_phi)\n",
    "velocity = np.array(model.velocity.at(FS.fs_points))\n",
    "\n",
    "phi_n.dat.data[:] = FS.PhiTilde\n",
    "eta_n.dat.data[:] = FS.fs_points[:, 1]\n",
    "w_n.dat.data[:] = velocity[:, 1]\n",
    "\n",
    "g = fd.Constant(9.81)\n",
    "dt = fd.Constant(0.01)\n",
    "\n",
    "grad_eta = fd.grad(eta)\n",
    "grad_phi = fd.grad(phi) + w_n * fd.grad(eta)\n",
    "\n",
    "F1 = (fd.inner((eta - eta_n)/dt, psi) * fd.dx +\n",
    "      fd.inner(fd.dot(grad_eta, grad_phi), psi) * fd.dx -\n",
    "      fd.inner(w_n * (1 + fd.dot(grad_eta, grad_eta)), psi) * fd.dx\n",
    "      )\n",
    "\n",
    "F2 = (fd.inner((phi - phi_n)/dt, zeta) * fd.dx +\n",
    "      fd.inner(g*eta, zeta)* fd.dx +\n",
    "      fd.Constant(0.5) * \n",
    "      fd.inner(fd.dot(grad_phi, grad_phi) - \n",
    "               w_n**2 * (fd.Constant(1) + fd.dot(grad_eta, grad_eta)), zeta) * fd.dx\n",
    "      )\n",
    "\n",
    "F = F1 + F2\n",
    "\n",
    "solver_params = {\"newton_solver\": {\"relative_tolerance\": 1e-6,}}\n",
    "fd.solve(F == 0, eta_phi, solver_parameters=solver_params)\n",
    "\n",
    "eta_n.assign(eta_phi.sub(0))\n",
    "phi_n.assign(eta_phi.sub(1))"
   ]
  },
  {
   "cell_type": "code",
   "execution_count": null,
   "metadata": {},
   "outputs": [
    {
     "ename": "NameError",
     "evalue": "name 'eta_phi' is not defined",
     "output_type": "error",
     "traceback": [
      "\u001b[0;31m---------------------------------------------------------------------------\u001b[0m",
      "\u001b[0;31mNameError\u001b[0m                                 Traceback (most recent call last)",
      "Cell \u001b[0;32mIn[17], line 1\u001b[0m\n\u001b[0;32m----> 1\u001b[0m plt\u001b[38;5;241m.\u001b[39mplot(FS\u001b[38;5;241m.\u001b[39mfs_points[:, \u001b[38;5;241m0\u001b[39m], \u001b[43meta_phi\u001b[49m\u001b[38;5;241m.\u001b[39msub(\u001b[38;5;241m0\u001b[39m)\u001b[38;5;241m.\u001b[39mdat\u001b[38;5;241m.\u001b[39mdata[:], \u001b[38;5;124m'\u001b[39m\u001b[38;5;124mr-\u001b[39m\u001b[38;5;124m'\u001b[39m, label\u001b[38;5;241m=\u001b[39m\u001b[38;5;124m'\u001b[39m\u001b[38;5;124meta_n\u001b[39m\u001b[38;5;124m'\u001b[39m)\n\u001b[1;32m      2\u001b[0m plt\u001b[38;5;241m.\u001b[39mplot(FS\u001b[38;5;241m.\u001b[39mfs_points[:, \u001b[38;5;241m0\u001b[39m], eta_n\u001b[38;5;241m.\u001b[39mdat\u001b[38;5;241m.\u001b[39mdata[:], \u001b[38;5;124m'\u001b[39m\u001b[38;5;124mb-.\u001b[39m\u001b[38;5;124m'\u001b[39m, label\u001b[38;5;241m=\u001b[39m\u001b[38;5;124m'\u001b[39m\u001b[38;5;124meta_n\u001b[39m\u001b[38;5;124m'\u001b[39m)\n",
      "\u001b[0;31mNameError\u001b[0m: name 'eta_phi' is not defined"
     ]
    }
   ],
   "source": [
    "plt.plot(FS.fs_points[:, 0], eta_phi.sub(0).dat.data[:], 'r-', label='eta_n')\n",
    "plt.plot(FS.fs_points[:, 0], eta_n.dat.data[:], 'b-.', label='eta_n')"
   ]
  },
  {
   "cell_type": "code",
   "execution_count": null,
   "metadata": {},
   "outputs": [],
   "source": []
  }
 ],
 "metadata": {
  "kernelspec": {
   "display_name": "Python FireDrake_root",
   "language": "python",
   "name": "fd_root"
  },
  "language_info": {
   "codemirror_mode": {
    "name": "ipython",
    "version": 3
   },
   "file_extension": ".py",
   "mimetype": "text/x-python",
   "name": "python",
   "nbconvert_exporter": "python",
   "pygments_lexer": "ipython3",
   "version": "3.12.3"
  }
 },
 "nbformat": 4,
 "nbformat_minor": 2
}
