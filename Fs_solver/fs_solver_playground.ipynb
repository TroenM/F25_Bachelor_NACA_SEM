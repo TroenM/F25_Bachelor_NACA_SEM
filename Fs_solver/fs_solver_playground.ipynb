{
 "cells": [
  {
   "cell_type": "code",
   "execution_count": 1,
   "metadata": {},
   "outputs": [
    {
     "name": "stdout",
     "output_type": "stream",
     "text": [
      "Libraries fetched!...\n",
      "\n"
     ]
    }
   ],
   "source": [
    "import os\n",
    "os.chdir(\"../\")\n",
    "from fs_solver import *"
   ]
  },
  {
   "cell_type": "code",
   "execution_count": 2,
   "metadata": {},
   "outputs": [
    {
     "name": "stdout",
     "output_type": "stream",
     "text": [
      "\n"
     ]
    }
   ],
   "source": [
    "kwargs = {\"ylim\":[-4,4], \"V_inf\": 10, \"g_div\": 5, \"write\":True,\n",
    "           \"n_airfoil\": 20,\n",
    "           \"n_fs\": 10,\n",
    "           \"n_bed\": 10,\n",
    "           \"n_inlet\": 5,\n",
    "           \"n_outlet\": 5}\n",
    "model = FsSolver(\"0012\" , alpha=10, P=2, kwargs = kwargs)"
   ]
  },
  {
   "cell_type": "code",
   "execution_count": null,
   "metadata": {},
   "outputs": [
    {
     "name": "stdout",
     "output_type": "stream",
     "text": [
      "\n",
      "Starting iteration 0\n",
      "\t dGamma: -0.27165367480125874\n",
      "\t Iteration time: 19.146670818328857 seconds\n",
      "\n",
      "Starting iteration 1\n",
      "\t dGamma: 0.26345182286284247\n",
      "\t Iteration time: 4.531121015548706 seconds\n",
      "\n",
      "Starting iteration 2\n",
      "\t dGamma: 0.007931345764993415\n",
      "\t Iteration time: 4.494563817977905 seconds\n",
      "\n",
      "Starting iteration 3\n"
     ]
    }
   ],
   "source": [
    "model.solve()"
   ]
  }
 ],
 "metadata": {
  "kernelspec": {
   "display_name": "Python (gmsh_env)",
   "language": "python",
   "name": "gmsh_env"
  },
  "language_info": {
   "codemirror_mode": {
    "name": "ipython",
    "version": 3
   },
   "file_extension": ".py",
   "mimetype": "text/x-python",
   "name": "python",
   "nbconvert_exporter": "python",
   "pygments_lexer": "ipython3",
   "version": "3.12.3"
  }
 },
 "nbformat": 4,
 "nbformat_minor": 2
}
