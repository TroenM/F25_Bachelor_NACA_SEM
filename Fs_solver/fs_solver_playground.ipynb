{
 "cells": [
  {
   "cell_type": "code",
   "execution_count": 4,
   "metadata": {},
   "outputs": [],
   "source": [
    "import os\n",
    "from fs_solver import *\n",
    "#from FsSolver import *"
   ]
  },
  {
   "cell_type": "markdown",
   "metadata": {},
   "source": [
    "kwargs = {\n",
    "    \"dt\": 0.1,\n",
    "    \"n_fs\": 500,\n",
    "    \"max_iter\": 2,\n",
    "    \"write\": False,\n",
    "    \n",
    "    \"PFS_kwargs\": {\n",
    "        \"g_div\": 20,\n",
    "        \"print_iter\": True\n",
    "    }\n",
    "}\n",
    "\n",
    "FsModel = FsSolver(airfoil = \"0012\", P = 1, alpha = 10, kwargs = kwargs)\n",
    "FsModel.solve()"
   ]
  },
  {
   "cell_type": "code",
   "execution_count": 15,
   "metadata": {},
   "outputs": [
    {
     "name": "stdout",
     "output_type": "stream",
     "text": [
      "\n"
     ]
    }
   ],
   "source": [
    "kwargs = {\"ylim\":[-4,1], \"xlim\":[-13,13], \"V_inf\": 10, \"g_div\": 70, \"write\":True,\n",
    "           \"n_airfoil\": 100,\n",
    "           \"n_fs\": 200,\n",
    "           \"n_bed\": 20,\n",
    "           \"n_inlet\": 10,\n",
    "           \"n_outlet\": 10,\n",
    "           \"rtol\": 1e-8,\n",
    "           \"max_iter_fs\": 4, \n",
    "           \"dt\": 0.0007,\n",
    "           \"a\":1, \"b\":1}\n",
    "FS = FsSolver(\"0012\", alpha = 10, P=3, kwargs = kwargs)\n",
    "#PFS = PotentialFlowSolver(\"0012\", alpha = 10, P=4, kwargs=kwargs)"
   ]
  },
  {
   "cell_type": "code",
   "execution_count": 16,
   "metadata": {},
   "outputs": [
    {
     "name": "stdout",
     "output_type": "stream",
     "text": [
      "[0.04992325 0.28312885]\n",
      "[ 8.80720031 -1.55302629]\n",
      "PoissonSolver stagnated in 6 iterations\n",
      "\t Total time: 6.323932647705078\n",
      "\t dGamma: 2.6461488805444197e-07\n",
      "\t dot product: -2.2437815114829887e-05\n",
      "\n",
      "\n",
      "initialization done\n",
      "The height at the beginning of the boundary is:  1\n",
      "[0.04992325 0.28312885]\n",
      "[-2.02572636  0.35719637]\n",
      "PoissonSolver stagnated in 10 iterations\n",
      "\t Total time: 9.525537729263306\n",
      "\t dGamma: 5.098024641917998e-07\n",
      "\t dot product: 1.7427707685419943e-06\n",
      "\n",
      "\n",
      "\t iteration: 1\n",
      "\t residual norm 1.5357487999079211e-06\n",
      "\t iteration time: 10.143083095550537\n",
      "\n",
      "The height at the beginning of the boundary is:  1\n",
      "[0.04992325 0.28312885]\n",
      "[-0.73918212  0.1303385 ]\n",
      "PoissonSolver converged in 18 iterations\n",
      "\t Total time: 14.52489447593689\n",
      "\t dGamma: 7.657090274930841e-06\n",
      "\t dot product: 2.1142760215022086e-07\n",
      "\n",
      "\n",
      "\t iteration: 2\n",
      "\t residual norm 0.1862208601662293\n",
      "\t iteration time: 15.12915825843811\n",
      "\n",
      "The height at the beginning of the boundary is:  1\n",
      "[0.04992325 0.28312885]\n",
      "[ 2.88977049 -0.50954797]\n",
      "PoissonSolver converged in 15 iterations\n",
      "\t Total time: 12.604697227478027\n",
      "\t dGamma: 3.6823348189053676e-05\n",
      "\t dot product: -9.80348440953608e-07\n",
      "\n",
      "\n",
      "\t iteration: 3\n",
      "\t residual norm 2.300586751866397\n",
      "\t iteration time: 13.2140531539917\n",
      "\n",
      "The height at the beginning of the boundary is:  1\n",
      "PoissonSolver diverged in 2 iterations\n",
      "\t Total time: 2.4564123153686523\n",
      "\t dGamma: 45061.461199283025\n",
      "\t dot product: 14739.034203695084\n",
      "\n",
      "\n",
      "\t iteration: 4\n",
      "\t residual norm 80.27926382693137\n",
      "\t iteration time: 3.073133707046509\n",
      "\n"
     ]
    }
   ],
   "source": [
    "FS.solve()\n",
    "#PFS.solve()"
   ]
  },
  {
   "cell_type": "code",
   "execution_count": null,
   "metadata": {},
   "outputs": [],
   "source": []
  },
  {
   "cell_type": "code",
   "execution_count": null,
   "metadata": {},
   "outputs": [],
   "source": []
  }
 ],
 "metadata": {
  "kernelspec": {
   "display_name": "Python FireDrake_root",
   "language": "python",
   "name": "fd_root"
  },
  "language_info": {
   "codemirror_mode": {
    "name": "ipython",
    "version": 3
   },
   "file_extension": ".py",
   "mimetype": "text/x-python",
   "name": "python",
   "nbconvert_exporter": "python",
   "pygments_lexer": "ipython3",
   "version": "3.12.3"
  }
 },
 "nbformat": 4,
 "nbformat_minor": 2
}
