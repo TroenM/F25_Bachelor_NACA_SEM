{
 "cells": [
  {
   "cell_type": "code",
   "execution_count": null,
   "id": "174abd02",
   "metadata": {},
   "outputs": [],
   "source": [
    "import matplotlib.pyplot as plt\n",
    "import numpy as np\n",
    "\n",
    "eta = np.load(\"./arrays/eta.npy\")\n",
    "phi = np.load(\"./arrays/phiTilde.npy\")\n",
    "fs_xs = np.load(\"./arrays/coordsFS.npy\")\n",
    "residuals = np.load(\"./arrays/residuals.npy\")\n",
    "residuals, time_step = residuals[:,0], residuals[:,1]\n",
    "\n",
    "fig, ax = plt.subplots(3, 1, figsize = (10,10))\n",
    "\n",
    "time = np.where(time_step == 0)[0][0] - 1\n",
    "ax[0].plot(fs_xs[time][:], eta[time][:] - 1)\n",
    "ax[0].plot(fs_xs[time-10][:], eta[time-10][:] - 1, alpha = 0.7, linestyle = \"--\")\n",
    "ax[0].plot(fs_xs[time-50][:], eta[time-50][:] - 1, alpha = 0.5, linestyle = \"--\")\n",
    "ax[0].set_title(f\"eta at time step {time}\" )\n",
    "\n",
    "ax[0].set_xlabel(\"x\")\n",
    "ax[0].set_ylabel(\"eta\")\n",
    "\n",
    "\n",
    "ax[1].plot(fs_xs[0], phi[time])\n",
    "ax[1].plot(fs_xs[0], phi[time-10], alpha = 0.7, linestyle = \"--\")\n",
    "ax[1].plot(fs_xs[0], phi[time-50], alpha = 0.5, linestyle = \"--\")\n",
    "ax[1].set_title(f\"phi_tilde at time step {time}\" )\n",
    "ax[1].set_xlabel(\"x\")\n",
    "ax[1].set_ylabel(\"phi_tilde\")\n",
    "\n",
    "ax[2].plot(residuals[:time])\n",
    "ax[2].set_title(\"Residulas\")\n",
    "ax[2].set_xlabel(\"iteration\")\n",
    "ax[2].set_ylabel(\"Residual\")\n",
    "ax[2].set_yscale(\"log\")\n",
    "\n",
    "plt.tight_layout()\n",
    "plt.show()"
   ]
  },
  {
   "cell_type": "code",
   "execution_count": null,
   "id": "75994097",
   "metadata": {},
   "outputs": [],
   "source": []
  }
 ],
 "metadata": {
  "kernelspec": {
   "display_name": "venv-firedrake",
   "language": "python",
   "name": "python3"
  },
  "language_info": {
   "codemirror_mode": {
    "name": "ipython",
    "version": 3
   },
   "file_extension": ".py",
   "mimetype": "text/x-python",
   "name": "python",
   "nbconvert_exporter": "python",
   "pygments_lexer": "ipython3",
   "version": "3.13.7"
  }
 },
 "nbformat": 4,
 "nbformat_minor": 5
}
