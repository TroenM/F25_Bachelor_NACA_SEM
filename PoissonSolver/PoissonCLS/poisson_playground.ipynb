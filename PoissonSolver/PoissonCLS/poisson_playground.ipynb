{
 "cells": [
  {
   "cell_type": "code",
   "execution_count": 1,
   "metadata": {},
   "outputs": [
    {
     "name": "stdout",
     "output_type": "stream",
     "text": [
      "Libraries fetched!...\n",
      "\n"
     ]
    }
   ],
   "source": [
    "import os\n",
    "os.chdir(\"../../\")\n",
    "from poisson_solver import *"
   ]
  },
  {
   "cell_type": "markdown",
   "metadata": {},
   "source": [
    "Problem\n",
    "\n",
    "$$\n",
    "\\nabla^2 u = f \\quad (x,y)\\in [0,1]\\times[0,1]\\\\\n",
    "u(0,y) = q_1 \\quad 0 \\leq y\\leq 1\\\\\n",
    "u(1, y) = q_2 \\quad 0\\leq y\\leq 1\\\\\n",
    "\\partial_x u(x,0)n_1 + \\partial_y u(x,0)n_2 = q_3 \\quad 0\\leq x \\leq 1\\\\\n",
    "\\partial_y u(x,1)n_1 + \\partial_y u(x,1)n_2= q_4 \\quad 0\\leq x \\leq 1\n",
    "$$"
   ]
  },
  {
   "cell_type": "markdown",
   "metadata": {},
   "source": [
    "$$\n",
    "f = -2\\sin(x)\\sin(y)\\\\\n",
    "q_1 = q_2= \\sin(x)\\sin(y)\\\\\n",
    "q3 = q_4 = \\cos(x)\\sin(y) + \\sin(x)\\cos(y)\n",
    "$$"
   ]
  },
  {
   "cell_type": "code",
   "execution_count": 2,
   "metadata": {},
   "outputs": [
    {
     "name": "stdout",
     "output_type": "stream",
     "text": [
      "\n"
     ]
    }
   ],
   "source": [
    "mesh = meshio_to_fd(naca_mesh(\"0012\", 15))"
   ]
  },
  {
   "cell_type": "code",
   "execution_count": 3,
   "metadata": {},
   "outputs": [],
   "source": [
    "model = PoissonSolver(mesh, P = 9)"
   ]
  },
  {
   "cell_type": "code",
   "execution_count": 4,
   "metadata": {},
   "outputs": [],
   "source": [
    "rhs = lambda x, y: 0 #-2*fd.sin(x)*fd.sin(y)\n",
    "model.impose_rhs(rhs, func_type = 'callable')"
   ]
  },
  {
   "cell_type": "code",
   "execution_count": 5,
   "metadata": {},
   "outputs": [],
   "source": [
    "model.impose_NBC(bc_func = -fd.Constant(1.0), bc_idx = 1)\n",
    "model.impose_NBC(bc_func = fd.Constant(1.0), bc_idx = 2)\n",
    "model.impose_NBC(bc_func=fd.Constant(0.0), bc_idx=3)\n",
    "model.impose_NBC(bc_func=fd.Constant(0.0), bc_idx=4)"
   ]
  },
  {
   "cell_type": "code",
   "execution_count": null,
   "metadata": {},
   "outputs": [],
   "source": []
  },
  {
   "cell_type": "code",
   "execution_count": 6,
   "metadata": {},
   "outputs": [
    {
     "data": {
      "text/plain": [
       "Indexed(SpatialCoordinate(Mesh(VectorElement(FiniteElement('Lagrange', triangle, 1), dim=2), 0)), MultiIndex((FixedIndex(0),)))"
      ]
     },
     "execution_count": 6,
     "metadata": {},
     "output_type": "execute_result"
    }
   ],
   "source": [
    "model.x"
   ]
  },
  {
   "cell_type": "code",
   "execution_count": 7,
   "metadata": {},
   "outputs": [
    {
     "ename": "KeyboardInterrupt",
     "evalue": "",
     "output_type": "error",
     "traceback": [
      "\u001b[0;31m---------------------------------------------------------------------------\u001b[0m",
      "\u001b[0;31mKeyboardInterrupt\u001b[0m                         Traceback (most recent call last)",
      "Cell \u001b[0;32mIn[7], line 1\u001b[0m\n\u001b[0;32m----> 1\u001b[0m \u001b[43mmodel\u001b[49m\u001b[38;5;241;43m.\u001b[39;49m\u001b[43msolve\u001b[49m\u001b[43m(\u001b[49m\u001b[43msolver_params\u001b[49m\u001b[38;5;241;43m=\u001b[39;49m\u001b[43m{\u001b[49m\u001b[38;5;124;43m'\u001b[39;49m\u001b[38;5;124;43mpc_type\u001b[39;49m\u001b[38;5;124;43m'\u001b[39;49m\u001b[43m:\u001b[49m\u001b[43m \u001b[49m\u001b[38;5;124;43m'\u001b[39;49m\u001b[38;5;124;43mlu\u001b[39;49m\u001b[38;5;124;43m'\u001b[39;49m\u001b[43m}\u001b[49m\u001b[43m)\u001b[49m\n",
      "File \u001b[0;32m/home/firedrake/Projects/Bachelor/F25_Bachelor_NACA_SEM/PoissonSolver/PoissonCLS/poisson_solver.py:196\u001b[0m, in \u001b[0;36mPoissonSolver.solve\u001b[0;34m(self, solver_params)\u001b[0m\n\u001b[1;32m    194\u001b[0m \u001b[38;5;28;01mdef\u001b[39;00m\u001b[38;5;250m \u001b[39m\u001b[38;5;21msolve\u001b[39m(\u001b[38;5;28mself\u001b[39m, solver_params: \u001b[38;5;28mdict\u001b[39m \u001b[38;5;241m=\u001b[39m {\u001b[38;5;124m\"\u001b[39m\u001b[38;5;124mksp_type\u001b[39m\u001b[38;5;124m\"\u001b[39m: \u001b[38;5;124m\"\u001b[39m\u001b[38;5;124mcg\u001b[39m\u001b[38;5;124m\"\u001b[39m}):\n\u001b[1;32m    195\u001b[0m \u001b[38;5;250m    \u001b[39m\u001b[38;5;124;03m\"\"\"Solve the Poisson problem\"\"\"\u001b[39;00m\n\u001b[0;32m--> 196\u001b[0m     \u001b[43mfd\u001b[49m\u001b[38;5;241;43m.\u001b[39;49m\u001b[43msolve\u001b[49m\u001b[43m(\u001b[49m\u001b[38;5;28;43mself\u001b[39;49m\u001b[38;5;241;43m.\u001b[39;49m\u001b[43ma\u001b[49m\u001b[43m \u001b[49m\u001b[38;5;241;43m==\u001b[39;49m\u001b[43m \u001b[49m\u001b[38;5;28;43mself\u001b[39;49m\u001b[38;5;241;43m.\u001b[39;49m\u001b[43mL\u001b[49m\u001b[43m,\u001b[49m\u001b[43m \u001b[49m\u001b[38;5;28;43mself\u001b[39;49m\u001b[38;5;241;43m.\u001b[39;49m\u001b[43mu_sol\u001b[49m\u001b[43m,\u001b[49m\u001b[43m \u001b[49m\u001b[43mbcs\u001b[49m\u001b[38;5;241;43m=\u001b[39;49m\u001b[38;5;28;43mself\u001b[39;49m\u001b[38;5;241;43m.\u001b[39;49m\u001b[43mDirBCs\u001b[49m\u001b[43m,\u001b[49m\u001b[43m \u001b[49m\u001b[43msolver_parameters\u001b[49m\u001b[38;5;241;43m=\u001b[39;49m\u001b[43msolver_params\u001b[49m\u001b[43m)\u001b[49m\n",
      "File \u001b[0;32mpetsc4py/PETSc/Log.pyx:188\u001b[0m, in \u001b[0;36mpetsc4py.PETSc.Log.EventDecorator.decorator.wrapped_func\u001b[0;34m()\u001b[0m\n",
      "File \u001b[0;32mpetsc4py/PETSc/Log.pyx:189\u001b[0m, in \u001b[0;36mpetsc4py.PETSc.Log.EventDecorator.decorator.wrapped_func\u001b[0;34m()\u001b[0m\n",
      "File \u001b[0;32m/home/firedrake/firedrake/src/firedrake/firedrake/adjoint_utils/solving.py:57\u001b[0m, in \u001b[0;36mannotate_solve.<locals>.wrapper\u001b[0;34m(*args, **kwargs)\u001b[0m\n\u001b[1;32m     54\u001b[0m     tape\u001b[38;5;241m.\u001b[39madd_block(block)\n\u001b[1;32m     56\u001b[0m \u001b[38;5;28;01mwith\u001b[39;00m stop_annotating():\n\u001b[0;32m---> 57\u001b[0m     output \u001b[38;5;241m=\u001b[39m \u001b[43msolve\u001b[49m\u001b[43m(\u001b[49m\u001b[38;5;241;43m*\u001b[39;49m\u001b[43margs\u001b[49m\u001b[43m,\u001b[49m\u001b[43m \u001b[49m\u001b[38;5;241;43m*\u001b[39;49m\u001b[38;5;241;43m*\u001b[39;49m\u001b[43mkwargs\u001b[49m\u001b[43m)\u001b[49m\n\u001b[1;32m     59\u001b[0m \u001b[38;5;28;01mif\u001b[39;00m annotate:\n\u001b[1;32m     60\u001b[0m     \u001b[38;5;28;01mif\u001b[39;00m \u001b[38;5;28mhasattr\u001b[39m(args[\u001b[38;5;241m1\u001b[39m], \u001b[38;5;124m\"\u001b[39m\u001b[38;5;124mcreate_block_variable\u001b[39m\u001b[38;5;124m\"\u001b[39m):\n",
      "File \u001b[0;32m/home/firedrake/firedrake/src/firedrake/firedrake/solving.py:141\u001b[0m, in \u001b[0;36msolve\u001b[0;34m(*args, **kwargs)\u001b[0m\n\u001b[1;32m    139\u001b[0m \u001b[38;5;66;03m# Call variational problem solver if we get an equation\u001b[39;00m\n\u001b[1;32m    140\u001b[0m \u001b[38;5;28;01mif\u001b[39;00m \u001b[38;5;28misinstance\u001b[39m(args[\u001b[38;5;241m0\u001b[39m], ufl\u001b[38;5;241m.\u001b[39mclasses\u001b[38;5;241m.\u001b[39mEquation):\n\u001b[0;32m--> 141\u001b[0m     \u001b[43m_solve_varproblem\u001b[49m\u001b[43m(\u001b[49m\u001b[38;5;241;43m*\u001b[39;49m\u001b[43margs\u001b[49m\u001b[43m,\u001b[49m\u001b[43m \u001b[49m\u001b[38;5;241;43m*\u001b[39;49m\u001b[38;5;241;43m*\u001b[39;49m\u001b[43mkwargs\u001b[49m\u001b[43m)\u001b[49m\n\u001b[1;32m    142\u001b[0m \u001b[38;5;28;01melse\u001b[39;00m:\n\u001b[1;32m    143\u001b[0m     \u001b[38;5;66;03m# Solve pre-assembled system\u001b[39;00m\n\u001b[1;32m    144\u001b[0m     \u001b[38;5;28;01mreturn\u001b[39;00m _la_solve(\u001b[38;5;241m*\u001b[39margs, \u001b[38;5;241m*\u001b[39m\u001b[38;5;241m*\u001b[39mkwargs)\n",
      "File \u001b[0;32m/home/firedrake/firedrake/src/firedrake/firedrake/solving.py:178\u001b[0m, in \u001b[0;36m_solve_varproblem\u001b[0;34m(*args, **kwargs)\u001b[0m\n\u001b[1;32m    171\u001b[0m     \u001b[38;5;66;03m# Create solver and call solve\u001b[39;00m\n\u001b[1;32m    172\u001b[0m     solver \u001b[38;5;241m=\u001b[39m vs\u001b[38;5;241m.\u001b[39mLinearVariationalSolver(problem, solver_parameters\u001b[38;5;241m=\u001b[39msolver_parameters,\n\u001b[1;32m    173\u001b[0m                                         nullspace\u001b[38;5;241m=\u001b[39mnullspace,\n\u001b[1;32m    174\u001b[0m                                         transpose_nullspace\u001b[38;5;241m=\u001b[39mnullspace_T,\n\u001b[1;32m    175\u001b[0m                                         near_nullspace\u001b[38;5;241m=\u001b[39mnear_nullspace,\n\u001b[1;32m    176\u001b[0m                                         options_prefix\u001b[38;5;241m=\u001b[39moptions_prefix,\n\u001b[1;32m    177\u001b[0m                                         appctx\u001b[38;5;241m=\u001b[39mappctx)\n\u001b[0;32m--> 178\u001b[0m     \u001b[43msolver\u001b[49m\u001b[38;5;241;43m.\u001b[39;49m\u001b[43msolve\u001b[49m\u001b[43m(\u001b[49m\u001b[43m)\u001b[49m\n\u001b[1;32m    180\u001b[0m \u001b[38;5;66;03m# Solve nonlinear variational problem\u001b[39;00m\n\u001b[1;32m    181\u001b[0m \u001b[38;5;28;01melse\u001b[39;00m:\n\u001b[1;32m    182\u001b[0m     \u001b[38;5;28;01mif\u001b[39;00m eq\u001b[38;5;241m.\u001b[39mrhs \u001b[38;5;241m!=\u001b[39m \u001b[38;5;241m0\u001b[39m:\n",
      "File \u001b[0;32mpetsc4py/PETSc/Log.pyx:188\u001b[0m, in \u001b[0;36mpetsc4py.PETSc.Log.EventDecorator.decorator.wrapped_func\u001b[0;34m()\u001b[0m\n",
      "File \u001b[0;32mpetsc4py/PETSc/Log.pyx:189\u001b[0m, in \u001b[0;36mpetsc4py.PETSc.Log.EventDecorator.decorator.wrapped_func\u001b[0;34m()\u001b[0m\n",
      "File \u001b[0;32m/home/firedrake/firedrake/src/firedrake/firedrake/adjoint_utils/variational_solver.py:104\u001b[0m, in \u001b[0;36mNonlinearVariationalSolverMixin._ad_annotate_solve.<locals>.wrapper\u001b[0;34m(self, **kwargs)\u001b[0m\n\u001b[1;32m    101\u001b[0m     tape\u001b[38;5;241m.\u001b[39madd_block(block)\n\u001b[1;32m    103\u001b[0m \u001b[38;5;28;01mwith\u001b[39;00m stop_annotating():\n\u001b[0;32m--> 104\u001b[0m     out \u001b[38;5;241m=\u001b[39m \u001b[43msolve\u001b[49m\u001b[43m(\u001b[49m\u001b[38;5;28;43mself\u001b[39;49m\u001b[43m,\u001b[49m\u001b[43m \u001b[49m\u001b[38;5;241;43m*\u001b[39;49m\u001b[38;5;241;43m*\u001b[39;49m\u001b[43mkwargs\u001b[49m\u001b[43m)\u001b[49m\n\u001b[1;32m    106\u001b[0m \u001b[38;5;28;01mif\u001b[39;00m annotate:\n\u001b[1;32m    107\u001b[0m     block\u001b[38;5;241m.\u001b[39madd_output(\u001b[38;5;28mself\u001b[39m\u001b[38;5;241m.\u001b[39m_ad_problem\u001b[38;5;241m.\u001b[39m_ad_u\u001b[38;5;241m.\u001b[39mcreate_block_variable())\n",
      "File \u001b[0;32m/home/firedrake/firedrake/src/firedrake/firedrake/variational_solver.py:325\u001b[0m, in \u001b[0;36mNonlinearVariationalSolver.solve\u001b[0;34m(self, bounds)\u001b[0m\n\u001b[1;32m    321\u001b[0m         \u001b[38;5;28;01mfor\u001b[39;00m ctx \u001b[38;5;129;01min\u001b[39;00m chain([\u001b[38;5;28mself\u001b[39m\u001b[38;5;241m.\u001b[39minserted_options()],\n\u001b[1;32m    322\u001b[0m                          [dmhooks\u001b[38;5;241m.\u001b[39madd_hooks(dm, \u001b[38;5;28mself\u001b[39m, appctx\u001b[38;5;241m=\u001b[39m\u001b[38;5;28mself\u001b[39m\u001b[38;5;241m.\u001b[39m_ctx) \u001b[38;5;28;01mfor\u001b[39;00m dm \u001b[38;5;129;01min\u001b[39;00m problem_dms],\n\u001b[1;32m    323\u001b[0m                          \u001b[38;5;28mself\u001b[39m\u001b[38;5;241m.\u001b[39m_transfer_operators):\n\u001b[1;32m    324\u001b[0m             stack\u001b[38;5;241m.\u001b[39menter_context(ctx)\n\u001b[0;32m--> 325\u001b[0m         \u001b[38;5;28;43mself\u001b[39;49m\u001b[38;5;241;43m.\u001b[39;49m\u001b[43msnes\u001b[49m\u001b[38;5;241;43m.\u001b[39;49m\u001b[43msolve\u001b[49m\u001b[43m(\u001b[49m\u001b[38;5;28;43;01mNone\u001b[39;49;00m\u001b[43m,\u001b[49m\u001b[43m \u001b[49m\u001b[43mwork\u001b[49m\u001b[43m)\u001b[49m\n\u001b[1;32m    326\u001b[0m     work\u001b[38;5;241m.\u001b[39mcopy(u)\n\u001b[1;32m    327\u001b[0m \u001b[38;5;28mself\u001b[39m\u001b[38;5;241m.\u001b[39m_setup \u001b[38;5;241m=\u001b[39m \u001b[38;5;28;01mTrue\u001b[39;00m\n",
      "\u001b[0;31mKeyboardInterrupt\u001b[0m: "
     ]
    }
   ],
   "source": [
    "model.solve(solver_params={'pc_type': 'lu'})"
   ]
  },
  {
   "cell_type": "code",
   "execution_count": null,
   "metadata": {},
   "outputs": [],
   "source": [
    "model.u_sol -= np.min(model.u_sol.dat.data)"
   ]
  },
  {
   "cell_type": "code",
   "execution_count": null,
   "metadata": {},
   "outputs": [
    {
     "data": {
      "image/png": "[encoded data removed]",
      "text/plain": [
       "<Figure size 1000x500 with 2 Axes>"
      ]
     },
     "metadata": {},
     "output_type": "display_data"
    }
   ],
   "source": [
    "model.plot_results(norm = \"H1\", levels = 100, figsize = (10, 5), ylim = (-2,1), xlim = (-2, 2))"
   ]
  },
  {
   "cell_type": "code",
   "execution_count": null,
   "metadata": {},
   "outputs": [
    {
     "data": {
      "text/plain": [
       "array([6.00450751, 6.00418883, 6.00375239, ..., 4.9355539 , 4.93608568,\n",
       "       4.93646213], shape=(84249,))"
      ]
     },
     "execution_count": 10,
     "metadata": {},
     "output_type": "execute_result"
    }
   ],
   "source": [
    "u0 = model.u_sol\n",
    "u0.dat.data"
   ]
  },
  {
   "cell_type": "code",
   "execution_count": null,
   "metadata": {},
   "outputs": [
    {
     "data": {
      "text/plain": [
       "Coefficient(WithGeometry(FunctionSpace(<firedrake.mesh.MeshTopology object at 0xffff47822bd0>, VectorElement(FiniteElement('Lagrange', triangle, 9), dim=2), name=None), Mesh(VectorElement(FiniteElement('Lagrange', triangle, 1), dim=2), 0)), 16)"
      ]
     },
     "execution_count": 11,
     "metadata": {},
     "output_type": "execute_result"
    }
   ],
   "source": [
    "V = fd.Function(model.W)\n",
    "V.project(fd.grad(u0))"
   ]
  },
  {
   "cell_type": "code",
   "execution_count": null,
   "metadata": {},
   "outputs": [
    {
     "ename": "NameError",
     "evalue": "name 'V' is not defined",
     "output_type": "error",
     "traceback": [
      "\u001b[0;31m---------------------------------------------------------------------------\u001b[0m",
      "\u001b[0;31mNameError\u001b[0m                                 Traceback (most recent call last)",
      "Cell \u001b[0;32mIn[1], line 1\u001b[0m\n\u001b[0;32m----> 1\u001b[0m \u001b[43mV\u001b[49m\u001b[38;5;241m.\u001b[39mboundary_nodes(\u001b[38;5;241m4\u001b[39m)\n",
      "\u001b[0;31mNameError\u001b[0m: name 'V' is not defined"
     ]
    }
   ],
   "source": [
    "V.boundary_nodes(4)"
   ]
  },
  {
   "cell_type": "code",
   "execution_count": null,
   "metadata": {},
   "outputs": [],
   "source": []
  }
 ],
 "metadata": {
  "kernelspec": {
   "display_name": "Python FireDrake_root",
   "language": "python",
   "name": "fd_root"
  },
  "language_info": {
   "codemirror_mode": {
    "name": "ipython",
    "version": 3
   },
   "file_extension": ".py",
   "mimetype": "text/x-python",
   "name": "python",
   "nbconvert_exporter": "python",
   "pygments_lexer": "ipython3",
   "version": "3.12.3"
  }
 },
 "nbformat": 4,
 "nbformat_minor": 2
}
