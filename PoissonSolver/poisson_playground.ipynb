{
 "cells": [
  {
   "cell_type": "code",
   "execution_count": null,
   "metadata": {},
   "outputs": [],
   "source": [
    "from poisson_solver import*\n",
    "import matplotlib.pyplot as plt"
   ]
  },
  {
   "cell_type": "markdown",
   "metadata": {},
   "source": [
    "Problem\n",
    "\n",
    "$$\n",
    "\\nabla^2 u = f \\quad (x,y)\\in [0,1]\\times[0,1]\\\\\n",
    "u(0,y) = q_1 \\quad 0 \\leq y\\leq 1\\\\\n",
    "u(1, y) = q_2 \\quad 0\\leq y\\leq 1\\\\\n",
    "\\partial_x u(x,0)n_1 + \\partial_y u(x,0)n_2 = q_3 \\quad 0\\leq x \\leq 1\\\\\n",
    "\\partial_y u(x,1)n_1 + \\partial_y u(x,1)n_2= q_4 \\quad 0\\leq x \\leq 1\n",
    "$$"
   ]
  },
  {
   "cell_type": "markdown",
   "metadata": {},
   "source": [
    "$$\n",
    "f = -2\\sin(x)\\sin(y)\\\\\n",
    "q_1 = q_2= \\sin(x)\\sin(y)\\\\\n",
    "q3 = q_4 = \\cos(x)\\sin(y) + \\sin(x)\\cos(y)\n",
    "$$"
   ]
  },
  {
   "cell_type": "code",
   "execution_count": null,
   "metadata": {},
   "outputs": [],
   "source": [
    "mesh = fd.UnitSquareMesh(100, 100)"
   ]
  },
  {
   "cell_type": "code",
   "execution_count": null,
   "metadata": {},
   "outputs": [],
   "source": [
    "model = PoissonSolver(mesh, P = 1)"
   ]
  },
  {
   "cell_type": "code",
   "execution_count": 42,
   "metadata": {},
   "outputs": [],
   "source": [
    "true_sol = fd.Function(model.V)\n",
    "true_sol.interpolate(fd.sin(model.x)*fd.sin(model.y))\n",
    "\n",
    "model.impose_true_sol(true_sol)"
   ]
  },
  {
   "cell_type": "code",
   "execution_count": 43,
   "metadata": {},
   "outputs": [],
   "source": [
    "bc1 = fd.Function(model.V)\n",
    "bc1.interpolate(fd.sin(model.x)*fd.sin(model.y))\n",
    "\n",
    "for i in range(1,3):\n",
    "    model.impose_DBC(bc1, bc_idx = i)\n"
   ]
  },
  {
   "cell_type": "code",
   "execution_count": 44,
   "metadata": {},
   "outputs": [],
   "source": [
    "bc3_x = fd.Function(model.V)\n",
    "bc3_y = fd.Function(model.V)\n",
    "\n",
    "bc3_x.interpolate(fd.cos(model.x)*fd.sin(model.y)) \n",
    "bc3_y.interpolate(fd.sin(model.x)*fd.cos(model.y))\n",
    "\n",
    "bc3 = fd.Function(model.W)\n",
    "bc3.vector().set_local(np.concatenate((bc3_x.vector().get_local(), bc3_y.vector().get_local())))\n",
    "\n"
   ]
  },
  {
   "cell_type": "code",
   "execution_count": 45,
   "metadata": {},
   "outputs": [],
   "source": [
    "model.impose_NBC(bc3, bc_idx = 3)\n",
    "model.impose_NBC(bc3, bc_idx = 4)"
   ]
  },
  {
   "cell_type": "code",
   "execution_count": 46,
   "metadata": {},
   "outputs": [],
   "source": [
    "model.solve()"
   ]
  },
  {
   "cell_type": "code",
   "execution_count": null,
   "metadata": {},
   "outputs": [],
   "source": [
    "diff = fd.Function(model.V)\n",
    "diff.interpolate(model.true_sol - model.u_sol)\n",
    "np.abs(np.max(diff.dat.data))"
   ]
  },
  {
   "cell_type": "code",
   "execution_count": null,
   "metadata": {},
   "outputs": [],
   "source": [
    "model.plot_results(norm = \"L2\")"
   ]
  },
  {
   "cell_type": "code",
   "execution_count": null,
   "metadata": {},
   "outputs": [],
   "source": []
  }
 ],
 "metadata": {
  "kernelspec": {
   "display_name": "firedrake",
   "language": "python",
   "name": "python3"
  },
  "language_info": {
   "codemirror_mode": {
    "name": "ipython",
    "version": 3
   },
   "file_extension": ".py",
   "mimetype": "text/x-python",
   "name": "python",
   "nbconvert_exporter": "python",
   "pygments_lexer": "ipython3",
   "version": "3.12.3"
  }
 },
 "nbformat": 4,
 "nbformat_minor": 2
}
